{
 "cells": [
  {
   "cell_type": "markdown",
   "id": "cb74770c",
   "metadata": {},
   "source": [
    "# Time Series Exploratory Data Analysis "
   ]
  },
  {
   "cell_type": "markdown",
   "id": "314ac5b7",
   "metadata": {},
   "source": [
    "### This notebook explores the store data and the German Electric Data "
   ]
  },
  {
   "cell_type": "code",
   "execution_count": 11,
   "id": "933bc33b",
   "metadata": {},
   "outputs": [],
   "source": [
    "import pandas as pd\n",
    "import pandas as pd\n",
    "from datetime import timedelta, datetime\n",
    "import numpy as np\n",
    "import matplotlib.pyplot as plt\n",
    "import seaborn as sns\n",
    "import statsmodels.api as sma\n",
    "import seaborn as sns\n",
    "import prepare\n",
    "import warnings\n",
    "warnings.filterwarnings(\"ignore\")\n",
    "import acquire\n",
    "from acquire import get_store_item_demand_data"
   ]
  },
  {
   "cell_type": "code",
   "execution_count": 12,
   "id": "73afa739",
   "metadata": {},
   "outputs": [
    {
     "name": "stdout",
     "output_type": "stream",
     "text": [
      "Reading from CSV file. . .\n",
      "Reading from csv file. . .\n",
      "Reading from csv file. . .\n"
     ]
    }
   ],
   "source": [
    "df = acquire.get_store_item_demand_data()"
   ]
  },
  {
   "cell_type": "code",
   "execution_count": null,
   "id": "8ed70d07",
   "metadata": {},
   "outputs": [],
   "source": [
    "df.head()"
   ]
  },
  {
   "cell_type": "code",
   "execution_count": null,
   "id": "85ece66a",
   "metadata": {},
   "outputs": [],
   "source": [
    "df.columns"
   ]
  },
  {
   "cell_type": "code",
   "execution_count": null,
   "id": "87a5cb58",
   "metadata": {},
   "outputs": [],
   "source": [
    "df.item_id.unique()"
   ]
  },
  {
   "cell_type": "code",
   "execution_count": null,
   "id": "45916a05",
   "metadata": {},
   "outputs": [],
   "source": [
    "df.sale_amount.unique()"
   ]
  },
  {
   "cell_type": "code",
   "execution_count": null,
   "id": "c0599016",
   "metadata": {},
   "outputs": [],
   "source": [
    "df.store_id.unique()"
   ]
  },
  {
   "cell_type": "code",
   "execution_count": null,
   "id": "70cd9385",
   "metadata": {},
   "outputs": [],
   "source": [
    "df.item_brand.unique()"
   ]
  },
  {
   "cell_type": "code",
   "execution_count": null,
   "id": "30cb1e15",
   "metadata": {},
   "outputs": [],
   "source": [
    "df.item_name.unique()"
   ]
  },
  {
   "cell_type": "code",
   "execution_count": null,
   "id": "a8b790dd",
   "metadata": {},
   "outputs": [],
   "source": [
    "df.item_price.unique()"
   ]
  },
  {
   "cell_type": "code",
   "execution_count": null,
   "id": "0b33866c",
   "metadata": {},
   "outputs": [],
   "source": [
    "df.item_upc12.unique()"
   ]
  },
  {
   "cell_type": "code",
   "execution_count": null,
   "id": "e329c3ab",
   "metadata": {},
   "outputs": [],
   "source": [
    "df.item_upc14.unique()"
   ]
  },
  {
   "cell_type": "code",
   "execution_count": null,
   "id": "e93eb359",
   "metadata": {},
   "outputs": [],
   "source": [
    "df.store_address.unique()"
   ]
  },
  {
   "cell_type": "code",
   "execution_count": null,
   "id": "d9b6fe00",
   "metadata": {},
   "outputs": [],
   "source": [
    "df.store_city.unique()"
   ]
  },
  {
   "cell_type": "code",
   "execution_count": null,
   "id": "1db1b9fe",
   "metadata": {},
   "outputs": [],
   "source": [
    "df.store_state.unique()"
   ]
  },
  {
   "cell_type": "code",
   "execution_count": null,
   "id": "dc468a89",
   "metadata": {},
   "outputs": [],
   "source": [
    "df.store_zipcode.unique()"
   ]
  },
  {
   "cell_type": "code",
   "execution_count": null,
   "id": "1b2fd053",
   "metadata": {},
   "outputs": [],
   "source": []
  },
  {
   "cell_type": "code",
   "execution_count": 17,
   "id": "3bdf4385",
   "metadata": {},
   "outputs": [
    {
     "ename": "AttributeError",
     "evalue": "'Int64Index' object has no attribute 'month'",
     "output_type": "error",
     "traceback": [
      "\u001b[0;31m---------------------------------------------------------------------------\u001b[0m",
      "\u001b[0;31mAttributeError\u001b[0m                            Traceback (most recent call last)",
      "\u001b[0;32m/var/folders/lt/mq77_h29005b8q_dkwt9pz000000gn/T/ipykernel_69221/2695678652.py\u001b[0m in \u001b[0;36m<module>\u001b[0;34m\u001b[0m\n\u001b[0;32m----> 1\u001b[0;31m \u001b[0mdf\u001b[0m\u001b[0;34m[\u001b[0m\u001b[0;34m'month'\u001b[0m\u001b[0;34m]\u001b[0m \u001b[0;34m=\u001b[0m \u001b[0mdf\u001b[0m\u001b[0;34m.\u001b[0m\u001b[0mindex\u001b[0m\u001b[0;34m.\u001b[0m\u001b[0mmonth\u001b[0m\u001b[0;34m\u001b[0m\u001b[0;34m\u001b[0m\u001b[0m\n\u001b[0m\u001b[1;32m      2\u001b[0m \u001b[0;34m\u001b[0m\u001b[0m\n\u001b[1;32m      3\u001b[0m \u001b[0mdf\u001b[0m\u001b[0;34m[\u001b[0m\u001b[0;34m'day_of_week'\u001b[0m\u001b[0;34m]\u001b[0m \u001b[0;34m=\u001b[0m \u001b[0mdf\u001b[0m\u001b[0;34m.\u001b[0m\u001b[0mindex\u001b[0m\u001b[0;34m.\u001b[0m\u001b[0mday_name\u001b[0m\u001b[0;34m(\u001b[0m\u001b[0;34m)\u001b[0m\u001b[0;34m\u001b[0m\u001b[0;34m\u001b[0m\u001b[0m\n\u001b[1;32m      4\u001b[0m     \u001b[0;31m#create a feature sales total that is the product of quantity and sale price\u001b[0m\u001b[0;34m\u001b[0m\u001b[0;34m\u001b[0m\u001b[0m\n\u001b[1;32m      5\u001b[0m \u001b[0mdf\u001b[0m\u001b[0;34m[\u001b[0m\u001b[0;34m'sales_total'\u001b[0m\u001b[0;34m]\u001b[0m \u001b[0;34m=\u001b[0m \u001b[0mdf\u001b[0m\u001b[0;34m.\u001b[0m\u001b[0mquantity\u001b[0m \u001b[0;34m*\u001b[0m \u001b[0mdf\u001b[0m\u001b[0;34m.\u001b[0m\u001b[0mitem_price\u001b[0m\u001b[0;34m\u001b[0m\u001b[0;34m\u001b[0m\u001b[0m\n",
      "\u001b[0;31mAttributeError\u001b[0m: 'Int64Index' object has no attribute 'month'"
     ]
    }
   ],
   "source": [
    "df['month'] = df.index.month\n",
    "\n",
    "df['day_of_week'] = df.index.day_name()\n",
    "    #create a feature sales total that is the product of quantity and sale price\n",
    "df['sales_total'] = df.quantity * df.item_price"
   ]
  },
  {
   "cell_type": "code",
   "execution_count": 14,
   "id": "befb0b62",
   "metadata": {},
   "outputs": [],
   "source": [
    "df.sale_date = df.sale_date.apply(lambda date: date[:-13])"
   ]
  },
  {
   "cell_type": "code",
   "execution_count": 15,
   "id": "51e3d9ea",
   "metadata": {},
   "outputs": [],
   "source": [
    "df.sale_date = pd.to_datetime(df.sale_date, format='%a, %d %b %Y')"
   ]
  },
  {
   "cell_type": "code",
   "execution_count": 18,
   "id": "0b5c4b44",
   "metadata": {},
   "outputs": [],
   "source": [
    "df = df.set_index('sale_date').sort_index()"
   ]
  },
  {
   "cell_type": "code",
   "execution_count": 19,
   "id": "f22a7a9d",
   "metadata": {},
   "outputs": [],
   "source": [
    "df = df.rename(columns={'sale_amount': 'quantity'})"
   ]
  },
  {
   "cell_type": "code",
   "execution_count": 20,
   "id": "ba147b62",
   "metadata": {},
   "outputs": [],
   "source": [
    "df['month'] = df.index.month\n",
    "\n",
    "df['day_of_week'] = df.index.day_name()\n",
    "    #create a feature sales total that is the product of quantity and sale price\n",
    "df['sales_total'] = df.quantity * df.item_price"
   ]
  },
  {
   "cell_type": "code",
   "execution_count": 21,
   "id": "60366952",
   "metadata": {},
   "outputs": [],
   "source": [
    "df.to_csv('acquired_and_prepared_store_data.csv')"
   ]
  },
  {
   "cell_type": "code",
   "execution_count": 22,
   "id": "0ae91f59",
   "metadata": {},
   "outputs": [
    {
     "data": {
      "text/html": [
       "<div>\n",
       "<style scoped>\n",
       "    .dataframe tbody tr th:only-of-type {\n",
       "        vertical-align: middle;\n",
       "    }\n",
       "\n",
       "    .dataframe tbody tr th {\n",
       "        vertical-align: top;\n",
       "    }\n",
       "\n",
       "    .dataframe thead th {\n",
       "        text-align: right;\n",
       "    }\n",
       "</style>\n",
       "<table border=\"1\" class=\"dataframe\">\n",
       "  <thead>\n",
       "    <tr style=\"text-align: right;\">\n",
       "      <th></th>\n",
       "      <th>Unnamed: 0</th>\n",
       "      <th>item_id</th>\n",
       "      <th>quantity</th>\n",
       "      <th>sale_id</th>\n",
       "      <th>store_id</th>\n",
       "      <th>item_brand</th>\n",
       "      <th>item_name</th>\n",
       "      <th>item_price</th>\n",
       "      <th>item_upc12</th>\n",
       "      <th>item_upc14</th>\n",
       "      <th>store_address</th>\n",
       "      <th>store_city</th>\n",
       "      <th>store_state</th>\n",
       "      <th>store_zipcode</th>\n",
       "      <th>month</th>\n",
       "      <th>day_of_week</th>\n",
       "      <th>sales_total</th>\n",
       "    </tr>\n",
       "    <tr>\n",
       "      <th>sale_date</th>\n",
       "      <th></th>\n",
       "      <th></th>\n",
       "      <th></th>\n",
       "      <th></th>\n",
       "      <th></th>\n",
       "      <th></th>\n",
       "      <th></th>\n",
       "      <th></th>\n",
       "      <th></th>\n",
       "      <th></th>\n",
       "      <th></th>\n",
       "      <th></th>\n",
       "      <th></th>\n",
       "      <th></th>\n",
       "      <th></th>\n",
       "      <th></th>\n",
       "      <th></th>\n",
       "    </tr>\n",
       "  </thead>\n",
       "  <tbody>\n",
       "    <tr>\n",
       "      <th>2013-01-01</th>\n",
       "      <td>0</td>\n",
       "      <td>1</td>\n",
       "      <td>13.0</td>\n",
       "      <td>1</td>\n",
       "      <td>1</td>\n",
       "      <td>Riceland</td>\n",
       "      <td>Riceland American Jazmine Rice</td>\n",
       "      <td>0.84</td>\n",
       "      <td>35200264013</td>\n",
       "      <td>35200264013</td>\n",
       "      <td>12125 Alamo Ranch Pkwy</td>\n",
       "      <td>San Antonio</td>\n",
       "      <td>TX</td>\n",
       "      <td>78253</td>\n",
       "      <td>1</td>\n",
       "      <td>Tuesday</td>\n",
       "      <td>10.92</td>\n",
       "    </tr>\n",
       "    <tr>\n",
       "      <th>2013-01-01</th>\n",
       "      <td>211816</td>\n",
       "      <td>12</td>\n",
       "      <td>26.0</td>\n",
       "      <td>211817</td>\n",
       "      <td>7</td>\n",
       "      <td>Mueller</td>\n",
       "      <td>Mueller Sport Care Basic Support Level Medium ...</td>\n",
       "      <td>8.40</td>\n",
       "      <td>74676640211</td>\n",
       "      <td>74676640211</td>\n",
       "      <td>12018 Perrin Beitel Rd</td>\n",
       "      <td>San Antonio</td>\n",
       "      <td>TX</td>\n",
       "      <td>78217</td>\n",
       "      <td>1</td>\n",
       "      <td>Tuesday</td>\n",
       "      <td>218.40</td>\n",
       "    </tr>\n",
       "    <tr>\n",
       "      <th>2013-01-01</th>\n",
       "      <td>832656</td>\n",
       "      <td>46</td>\n",
       "      <td>27.0</td>\n",
       "      <td>832657</td>\n",
       "      <td>7</td>\n",
       "      <td>Mama Marys</td>\n",
       "      <td>Pizza Sauce</td>\n",
       "      <td>4.65</td>\n",
       "      <td>35457770664</td>\n",
       "      <td>35457770664</td>\n",
       "      <td>12018 Perrin Beitel Rd</td>\n",
       "      <td>San Antonio</td>\n",
       "      <td>TX</td>\n",
       "      <td>78217</td>\n",
       "      <td>1</td>\n",
       "      <td>Tuesday</td>\n",
       "      <td>125.55</td>\n",
       "    </tr>\n",
       "    <tr>\n",
       "      <th>2013-01-01</th>\n",
       "      <td>213642</td>\n",
       "      <td>12</td>\n",
       "      <td>54.0</td>\n",
       "      <td>213643</td>\n",
       "      <td>8</td>\n",
       "      <td>Mueller</td>\n",
       "      <td>Mueller Sport Care Basic Support Level Medium ...</td>\n",
       "      <td>8.40</td>\n",
       "      <td>74676640211</td>\n",
       "      <td>74676640211</td>\n",
       "      <td>15000 San Pedro Ave</td>\n",
       "      <td>San Antonio</td>\n",
       "      <td>TX</td>\n",
       "      <td>78232</td>\n",
       "      <td>1</td>\n",
       "      <td>Tuesday</td>\n",
       "      <td>453.60</td>\n",
       "    </tr>\n",
       "    <tr>\n",
       "      <th>2013-01-01</th>\n",
       "      <td>215468</td>\n",
       "      <td>12</td>\n",
       "      <td>35.0</td>\n",
       "      <td>215469</td>\n",
       "      <td>9</td>\n",
       "      <td>Mueller</td>\n",
       "      <td>Mueller Sport Care Basic Support Level Medium ...</td>\n",
       "      <td>8.40</td>\n",
       "      <td>74676640211</td>\n",
       "      <td>74676640211</td>\n",
       "      <td>735 SW Military Dr</td>\n",
       "      <td>San Antonio</td>\n",
       "      <td>TX</td>\n",
       "      <td>78221</td>\n",
       "      <td>1</td>\n",
       "      <td>Tuesday</td>\n",
       "      <td>294.00</td>\n",
       "    </tr>\n",
       "  </tbody>\n",
       "</table>\n",
       "</div>"
      ],
      "text/plain": [
       "            Unnamed: 0  item_id  quantity  sale_id  store_id  item_brand  \\\n",
       "sale_date                                                                  \n",
       "2013-01-01           0        1      13.0        1         1    Riceland   \n",
       "2013-01-01      211816       12      26.0   211817         7     Mueller   \n",
       "2013-01-01      832656       46      27.0   832657         7  Mama Marys   \n",
       "2013-01-01      213642       12      54.0   213643         8     Mueller   \n",
       "2013-01-01      215468       12      35.0   215469         9     Mueller   \n",
       "\n",
       "                                                    item_name  item_price  \\\n",
       "sale_date                                                                   \n",
       "2013-01-01                     Riceland American Jazmine Rice        0.84   \n",
       "2013-01-01  Mueller Sport Care Basic Support Level Medium ...        8.40   \n",
       "2013-01-01                                        Pizza Sauce        4.65   \n",
       "2013-01-01  Mueller Sport Care Basic Support Level Medium ...        8.40   \n",
       "2013-01-01  Mueller Sport Care Basic Support Level Medium ...        8.40   \n",
       "\n",
       "             item_upc12   item_upc14           store_address   store_city  \\\n",
       "sale_date                                                                   \n",
       "2013-01-01  35200264013  35200264013  12125 Alamo Ranch Pkwy  San Antonio   \n",
       "2013-01-01  74676640211  74676640211  12018 Perrin Beitel Rd  San Antonio   \n",
       "2013-01-01  35457770664  35457770664  12018 Perrin Beitel Rd  San Antonio   \n",
       "2013-01-01  74676640211  74676640211     15000 San Pedro Ave  San Antonio   \n",
       "2013-01-01  74676640211  74676640211      735 SW Military Dr  San Antonio   \n",
       "\n",
       "           store_state  store_zipcode  month day_of_week  sales_total  \n",
       "sale_date                                                              \n",
       "2013-01-01          TX          78253      1     Tuesday        10.92  \n",
       "2013-01-01          TX          78217      1     Tuesday       218.40  \n",
       "2013-01-01          TX          78217      1     Tuesday       125.55  \n",
       "2013-01-01          TX          78232      1     Tuesday       453.60  \n",
       "2013-01-01          TX          78221      1     Tuesday       294.00  "
      ]
     },
     "execution_count": 22,
     "metadata": {},
     "output_type": "execute_result"
    }
   ],
   "source": [
    "df.head()"
   ]
  },
  {
   "cell_type": "markdown",
   "id": "d119775d",
   "metadata": {},
   "source": [
    "# Split the Data "
   ]
  },
  {
   "cell_type": "code",
   "execution_count": null,
   "id": "c417d7ec",
   "metadata": {},
   "outputs": [],
   "source": [
    "#look at the range of the index \n",
    "#four total years of data \n",
    "df.index.min(), df.index.max()"
   ]
  },
  {
   "cell_type": "code",
   "execution_count": null,
   "id": "c6be4782",
   "metadata": {},
   "outputs": [],
   "source": [
    "#train test split \n",
    "#75% train, 25% test \n",
    "#split the data with everything up to 2016 \n",
    "#test is only 2017 \n",
    "train = df[:'2016'] \n",
    "test = df['2017']\n",
    "\n",
    "plt.plot(train.index, train.sales_total)\n",
    "plt.plot(test.index, test.sales_total)"
   ]
  },
  {
   "cell_type": "markdown",
   "id": "c0c28865",
   "metadata": {},
   "source": [
    "- Key Takeaway: \n",
    "    - 3 years of training data, 1 year of test data \n",
    "    - test data is most recent "
   ]
  },
  {
   "cell_type": "code",
   "execution_count": null,
   "id": "4389230f",
   "metadata": {},
   "outputs": [],
   "source": [
    "train.resample('D').sales_total.mean().plot()\n",
    "test.resample('D').sales_total.mean().plot()"
   ]
  },
  {
   "cell_type": "markdown",
   "id": "a6549678",
   "metadata": {},
   "source": [
    "- Key Takeaways: \n",
    "    - The business becomes more profitable every year \n",
    "    - The business seems to be most profitable mid year (summer)"
   ]
  },
  {
   "cell_type": "code",
   "execution_count": null,
   "id": "2045b665",
   "metadata": {},
   "outputs": [],
   "source": [
    "y = train.sales_total \n",
    "y.head()"
   ]
  },
  {
   "cell_type": "markdown",
   "id": "a668e122",
   "metadata": {},
   "source": [
    "### Visualization Options "
   ]
  },
  {
   "cell_type": "code",
   "execution_count": null,
   "id": "b13a102f",
   "metadata": {},
   "outputs": [],
   "source": [
    "#distributions of target variable \n",
    "train.sales_total.plot.hist(title = 'Frequency of Sales Total')"
   ]
  },
  {
   "cell_type": "markdown",
   "id": "3477eeb2",
   "metadata": {},
   "source": [
    "- Key Takeaway: \n",
    "    - Right Skewed Data "
   ]
  },
  {
   "cell_type": "code",
   "execution_count": null,
   "id": "d4890ab9",
   "metadata": {},
   "outputs": [],
   "source": [
    "#sales by day of the week \n",
    "train.groupby('day_of_week').sales_total.mean().plot.bar()"
   ]
  },
  {
   "cell_type": "markdown",
   "id": "08f3876f",
   "metadata": {},
   "source": [
    "- Key Takeaway: \n",
    "    - Pretty decent averages of sales \n",
    "    - higher sales on Fridays, Saturdays, and Sundays "
   ]
  },
  {
   "cell_type": "code",
   "execution_count": null,
   "id": "dfb8b9aa",
   "metadata": {},
   "outputs": [],
   "source": [
    "ax = y.groupby(y.index.month).mean().plot.bar(width = 0.9, ec = 'black')\n",
    "plt.xticks(rotation = 0)\n",
    "ax.set(title='Average Sales by Month', xlabel='Month', ylabel='Total Sales $')"
   ]
  },
  {
   "cell_type": "markdown",
   "id": "24c78046",
   "metadata": {},
   "source": [
    "- Key Takeaway: \n",
    "    - More sales in the summer months \n",
    "    - The kids are possibly out of school and need to eat at home \n",
    "    "
   ]
  },
  {
   "cell_type": "code",
   "execution_count": null,
   "id": "2fd4aafa",
   "metadata": {},
   "outputs": [],
   "source": [
    "train.day_of_week = train.index.strftime('%a')\n",
    "train.day_of_week = pd.Categorical(train.day_of_week, categories=['Mon', 'Tue', 'Wed', 'Thu', 'Fri', 'Sat', 'Sun'], ordered=True)"
   ]
  },
  {
   "cell_type": "code",
   "execution_count": null,
   "id": "2a137b71",
   "metadata": {},
   "outputs": [],
   "source": [
    "train.head()"
   ]
  },
  {
   "cell_type": "code",
   "execution_count": null,
   "id": "0b19fb9f",
   "metadata": {},
   "outputs": [],
   "source": [
    "#Sales by day of the week \n",
    "sns.boxplot(data = train, y= 'sales_total', x= 'day_of_week')"
   ]
  },
  {
   "cell_type": "markdown",
   "id": "76e11bd4",
   "metadata": {},
   "source": [
    "- Key Takeaways: \n",
    "     - More Sales on Friday, Saturday, Sunday\n",
    "     - More outliers on Thursdays (possibly coupon day?)"
   ]
  },
  {
   "cell_type": "markdown",
   "id": "32e20aae",
   "metadata": {},
   "source": [
    "# Time Series Visuals "
   ]
  },
  {
   "cell_type": "markdown",
   "id": "9dbd86bb",
   "metadata": {},
   "source": [
    "### Target Over Time "
   ]
  },
  {
   "cell_type": "code",
   "execution_count": null,
   "id": "2eb3356a",
   "metadata": {},
   "outputs": [],
   "source": [
    "y = train.sales_total"
   ]
  },
  {
   "cell_type": "code",
   "execution_count": null,
   "id": "e6a24c87",
   "metadata": {},
   "outputs": [],
   "source": [
    "y.plot()"
   ]
  },
  {
   "cell_type": "markdown",
   "id": "8cb03772",
   "metadata": {},
   "source": [
    "### Target Mean over Periods of Time "
   ]
  },
  {
   "cell_type": "code",
   "execution_count": null,
   "id": "bfc948eb",
   "metadata": {},
   "outputs": [],
   "source": [
    "y.resample('W').mean().plot(title = 'Weekly Average')"
   ]
  },
  {
   "cell_type": "code",
   "execution_count": null,
   "id": "d2c003d3",
   "metadata": {},
   "outputs": [],
   "source": [
    "y.resample('M').mean().plot(title = 'Monthly Average')"
   ]
  },
  {
   "cell_type": "markdown",
   "id": "f5655105",
   "metadata": {},
   "source": [
    "### Visualize change in Target Over Time "
   ]
  },
  {
   "cell_type": "code",
   "execution_count": null,
   "id": "5e32ab4d",
   "metadata": {},
   "outputs": [],
   "source": [
    "#week to week changes \n",
    "y.resample('W').mean().diff().plot(title='Weekly Sales Over Time')"
   ]
  },
  {
   "cell_type": "code",
   "execution_count": null,
   "id": "c39fdbcc",
   "metadata": {},
   "outputs": [],
   "source": [
    "#monthly\n",
    "y.resample('M').mean().diff().plot(title='Monthly Sales Over Time')"
   ]
  },
  {
   "cell_type": "markdown",
   "id": "277b5749",
   "metadata": {},
   "source": [
    "# Seasonal Plot "
   ]
  },
  {
   "cell_type": "code",
   "execution_count": null,
   "id": "a2284eb8",
   "metadata": {},
   "outputs": [],
   "source": [
    "y.groupby([y.index.year, y.index.month]).mean().unstack(0).plot(title='Sales each Year')\n",
    "plt.xlabel('Month')\n",
    "plt.ylabel('Total Sales $')"
   ]
  },
  {
   "cell_type": "markdown",
   "id": "940aa46e",
   "metadata": {},
   "source": [
    "### Seasonal Subseries Plots"
   ]
  },
  {
   "cell_type": "code",
   "execution_count": null,
   "id": "7f7ff0a4",
   "metadata": {},
   "outputs": [],
   "source": [
    "table = y.groupby([y.index.year, y.index.month]).mean().unstack()\n",
    "\n",
    "fig, axs = plt.subplots(1, 12, sharey=True, sharex=True)\n",
    "for ax, (month, subset) in zip(axs, table.iteritems()):\n",
    "    subset.plot(ax=ax, title=month)\n",
    "    ax.hlines(subset.mean(), *ax.get_xlim())\n",
    "    ax.set(xlabel='')\n",
    "\n",
    "fig.suptitle('Seasonal Subseries Plot') # super-title for the overall figure\n",
    "fig.subplots_adjust(wspace=0)"
   ]
  },
  {
   "cell_type": "markdown",
   "id": "7654314b",
   "metadata": {},
   "source": [
    "### LAG Plots "
   ]
  },
  {
   "cell_type": "code",
   "execution_count": null,
   "id": "5ecc23e2",
   "metadata": {},
   "outputs": [],
   "source": [
    "plt.scatter(y, y.shift(-1))\n",
    "plt.xlabel('$y$')\n",
    "plt.ylabel('$y_{t + 1}$')\n",
    "plt.title('Lag plot with lag=1')"
   ]
  },
  {
   "cell_type": "markdown",
   "id": "3e4e563a",
   "metadata": {},
   "source": [
    "### Autocorrelation Plot "
   ]
  },
  {
   "cell_type": "code",
   "execution_count": null,
   "id": "d2a33973",
   "metadata": {},
   "outputs": [],
   "source": [
    "pd.plotting.autocorrelation_plot(train.sales_total.resample('W').mean())\n"
   ]
  },
  {
   "cell_type": "markdown",
   "id": "d94601ba",
   "metadata": {},
   "source": [
    "### Germany Dataset "
   ]
  },
  {
   "cell_type": "code",
   "execution_count": null,
   "id": "2695a3a9",
   "metadata": {},
   "outputs": [],
   "source": [
    "df = acquire.german_electric()"
   ]
  },
  {
   "cell_type": "code",
   "execution_count": null,
   "id": "aecb41ad",
   "metadata": {},
   "outputs": [],
   "source": [
    "df = prepare.prep_german_electric_data(df)"
   ]
  },
  {
   "cell_type": "code",
   "execution_count": null,
   "id": "1c131109",
   "metadata": {},
   "outputs": [],
   "source": [
    "df = df.dropna()"
   ]
  },
  {
   "cell_type": "code",
   "execution_count": null,
   "id": "ec17034a",
   "metadata": {},
   "outputs": [],
   "source": [
    "df.head()"
   ]
  },
  {
   "cell_type": "code",
   "execution_count": null,
   "id": "9733f642",
   "metadata": {},
   "outputs": [],
   "source": [
    "df.shape"
   ]
  },
  {
   "cell_type": "markdown",
   "id": "1419f2b3",
   "metadata": {},
   "source": [
    "### Split the Data "
   ]
  },
  {
   "cell_type": "code",
   "execution_count": null,
   "id": "eb4eb11b",
   "metadata": {},
   "outputs": [],
   "source": [
    "#look at the range of index \n",
    "df.index.min(), df.index.max()\n",
    "# 6 years of data"
   ]
  },
  {
   "cell_type": "code",
   "execution_count": null,
   "id": "54de7dcd",
   "metadata": {},
   "outputs": [],
   "source": [
    "df.head()"
   ]
  },
  {
   "cell_type": "code",
   "execution_count": null,
   "id": "fdfdeefe",
   "metadata": {},
   "outputs": [],
   "source": [
    "df.shape"
   ]
  },
  {
   "cell_type": "code",
   "execution_count": null,
   "id": "1c8d7051",
   "metadata": {},
   "outputs": [],
   "source": [
    "#train test split \n",
    "train = df[:'2015'] \n",
    "test = df['2016' and '2017']\n",
    "\n",
    "plt.plot(train.index, train.Consumption)\n",
    "plt.plot(test.index, test.Consumption)"
   ]
  },
  {
   "cell_type": "code",
   "execution_count": null,
   "id": "ae78eba6",
   "metadata": {},
   "outputs": [],
   "source": [
    "train.resample('D').Consumption.mean().plot()\n",
    "test.resample('D').Consumption.mean().plot()"
   ]
  },
  {
   "cell_type": "markdown",
   "id": "e9ab2fd5",
   "metadata": {},
   "source": [
    "### Distribution "
   ]
  },
  {
   "cell_type": "code",
   "execution_count": null,
   "id": "62fd1e77",
   "metadata": {},
   "outputs": [],
   "source": [
    "train.Consumption.plot.hist(title = 'Consumption Distribution')"
   ]
  },
  {
   "cell_type": "code",
   "execution_count": null,
   "id": "1a0d6520",
   "metadata": {},
   "outputs": [],
   "source": [
    "train.groupby('year').Consumption.mean().plot.bar()"
   ]
  },
  {
   "cell_type": "code",
   "execution_count": null,
   "id": "88859f79",
   "metadata": {},
   "outputs": [],
   "source": [
    "train.resample('M').mean().plot(title = 'Weekly Consumption')"
   ]
  },
  {
   "cell_type": "code",
   "execution_count": null,
   "id": "2e54f1dd",
   "metadata": {},
   "outputs": [],
   "source": [
    "train.resample('3M').mean().plot(title = '3 Month Average')"
   ]
  },
  {
   "cell_type": "code",
   "execution_count": null,
   "id": "80dd1328",
   "metadata": {},
   "outputs": [],
   "source": [
    "train.resample('W').mean().diff().plot(title='Average Weekly')"
   ]
  },
  {
   "cell_type": "code",
   "execution_count": null,
   "id": "bda6da5d",
   "metadata": {},
   "outputs": [],
   "source": [
    "A = train.Consumption\n",
    "B = train.Wind\n",
    "C = train.Solar \n",
    "D = train['Wind+Solar']"
   ]
  },
  {
   "cell_type": "code",
   "execution_count": null,
   "id": "699a5cfa",
   "metadata": {},
   "outputs": [],
   "source": [
    "A.resample('W').mean().diff().plot(title='Average Weekly Consumption')"
   ]
  },
  {
   "cell_type": "code",
   "execution_count": null,
   "id": "414ae43a",
   "metadata": {},
   "outputs": [],
   "source": [
    "B.resample('W').mean().diff().plot(title='Average Weekly Wind')"
   ]
  },
  {
   "cell_type": "code",
   "execution_count": null,
   "id": "cfb0f2c4",
   "metadata": {},
   "outputs": [],
   "source": [
    "C.resample('W').mean().diff().plot(title='Average Weekly Solar')"
   ]
  },
  {
   "cell_type": "code",
   "execution_count": null,
   "id": "696c0796",
   "metadata": {},
   "outputs": [],
   "source": [
    "D.resample('W').mean().diff().plot(title='Average Weekly Wind plus Solar')"
   ]
  },
  {
   "cell_type": "code",
   "execution_count": null,
   "id": "f40c4455",
   "metadata": {},
   "outputs": [],
   "source": [
    "A.resample('M').mean().diff().plot(title='Average Monthly Consumption')"
   ]
  },
  {
   "cell_type": "code",
   "execution_count": null,
   "id": "56a77d8b",
   "metadata": {},
   "outputs": [],
   "source": [
    "B.resample('M').mean().diff().plot(title='Average Monthly Wind')"
   ]
  },
  {
   "cell_type": "code",
   "execution_count": null,
   "id": "9493daea",
   "metadata": {},
   "outputs": [],
   "source": [
    "C.resample('M').mean().diff().plot(title='Average Monthly Solar')"
   ]
  },
  {
   "cell_type": "code",
   "execution_count": null,
   "id": "4c26d609",
   "metadata": {},
   "outputs": [],
   "source": [
    "D.resample('M').mean().diff().plot(title='Average Monthly Wind and Solar')"
   ]
  },
  {
   "cell_type": "code",
   "execution_count": null,
   "id": "45538a8e",
   "metadata": {},
   "outputs": [],
   "source": [
    "A.groupby([A.index.year, A.index.month]).mean().unstack(0).plot(title='Seasonal Plot')\n",
    "plt.xlabel('Month')\n",
    "plt.ylabel('Total Consumption')"
   ]
  },
  {
   "cell_type": "code",
   "execution_count": null,
   "id": "d089ae33",
   "metadata": {},
   "outputs": [],
   "source": []
  },
  {
   "cell_type": "code",
   "execution_count": null,
   "id": "43fb9287",
   "metadata": {},
   "outputs": [],
   "source": []
  },
  {
   "cell_type": "code",
   "execution_count": null,
   "id": "416ffbf8",
   "metadata": {},
   "outputs": [],
   "source": []
  },
  {
   "cell_type": "code",
   "execution_count": null,
   "id": "4be14584",
   "metadata": {},
   "outputs": [],
   "source": []
  },
  {
   "cell_type": "code",
   "execution_count": null,
   "id": "043d86ba",
   "metadata": {},
   "outputs": [],
   "source": []
  },
  {
   "cell_type": "code",
   "execution_count": null,
   "id": "aae4f17a",
   "metadata": {},
   "outputs": [],
   "source": []
  }
 ],
 "metadata": {
  "kernelspec": {
   "display_name": "Python 3 (ipykernel)",
   "language": "python",
   "name": "python3"
  },
  "language_info": {
   "codemirror_mode": {
    "name": "ipython",
    "version": 3
   },
   "file_extension": ".py",
   "mimetype": "text/x-python",
   "name": "python",
   "nbconvert_exporter": "python",
   "pygments_lexer": "ipython3",
   "version": "3.9.7"
  }
 },
 "nbformat": 4,
 "nbformat_minor": 5
}
