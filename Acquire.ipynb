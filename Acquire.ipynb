{
 "cells": [
  {
   "cell_type": "code",
   "execution_count": 2,
   "id": "80d23d17",
   "metadata": {},
   "outputs": [],
   "source": [
    "import pandas as pd\n",
    "import numpy as np \n",
    "import matplotlib as plt \n",
    "import seaborn as sns \n",
    "import acquire \n",
    "import requests"
   ]
  },
  {
   "cell_type": "markdown",
   "id": "6bab5da3",
   "metadata": {},
   "source": [
    "### making HTTP Requests"
   ]
  },
  {
   "cell_type": "code",
   "execution_count": 2,
   "id": "a7166e12",
   "metadata": {},
   "outputs": [
    {
     "data": {
      "text/plain": [
       "<Response [200]>"
      ]
     },
     "execution_count": 2,
     "metadata": {},
     "output_type": "execute_result"
    }
   ],
   "source": [
    "#example \n",
    "response = requests.get('http://aphorisms.glitch.me/')\n",
    "response"
   ]
  },
  {
   "cell_type": "markdown",
   "id": "0924e34d",
   "metadata": {},
   "source": [
    "### Example JSON API"
   ]
  },
  {
   "cell_type": "code",
   "execution_count": 3,
   "id": "ea1640e9",
   "metadata": {},
   "outputs": [
    {
     "name": "stdout",
     "output_type": "stream",
     "text": [
      "{\"name\":\"Leia Organa\",\"height\":\"150\",\"mass\":\"49\",\"hair_color\":\"brown\",\"skin_color\":\"light\",\"eye_color\":\"brown\",\"birth_year\":\"19BBY\",\"gender\":\"female\",\"homeworld\":\"https://swapi.dev/api/planets/2/\",\"films\":[\"https://swapi.dev/api/films/1/\",\"https://swapi.dev/api/films/2/\",\"https://swapi.dev/api/films/3/\",\"https://swapi.dev/api/films/6/\"],\"species\":[],\"vehicles\":[\"https://swapi.dev/api/vehicles/30/\"],\"starships\":[],\"created\":\"2014-12-10T15:20:09.791000Z\",\"edited\":\"2014-12-20T21:17:50.315000Z\",\"url\":\"https://swapi.dev/api/people/5/\"}\n"
     ]
    }
   ],
   "source": [
    "url = 'https://swapi.dev/api/people/5'\n",
    "response = requests.get(url)\n",
    "print(response.text)"
   ]
  },
  {
   "cell_type": "code",
   "execution_count": 4,
   "id": "8f91793e",
   "metadata": {},
   "outputs": [
    {
     "data": {
      "text/plain": [
       "{'name': 'Leia Organa',\n",
       " 'height': '150',\n",
       " 'mass': '49',\n",
       " 'hair_color': 'brown',\n",
       " 'skin_color': 'light',\n",
       " 'eye_color': 'brown',\n",
       " 'birth_year': '19BBY',\n",
       " 'gender': 'female',\n",
       " 'homeworld': 'https://swapi.dev/api/planets/2/',\n",
       " 'films': ['https://swapi.dev/api/films/1/',\n",
       "  'https://swapi.dev/api/films/2/',\n",
       "  'https://swapi.dev/api/films/3/',\n",
       "  'https://swapi.dev/api/films/6/'],\n",
       " 'species': [],\n",
       " 'vehicles': ['https://swapi.dev/api/vehicles/30/'],\n",
       " 'starships': [],\n",
       " 'created': '2014-12-10T15:20:09.791000Z',\n",
       " 'edited': '2014-12-20T21:17:50.315000Z',\n",
       " 'url': 'https://swapi.dev/api/people/5/'}"
      ]
     },
     "execution_count": 4,
     "metadata": {},
     "output_type": "execute_result"
    }
   ],
   "source": [
    "{\"name\":\"Leia Organa\",\"height\":\"150\",\"mass\":\"49\",\"hair_color\":\"brown\",\"skin_color\":\"light\",\"eye_color\":\"brown\",\"birth_year\":\"19BBY\",\"gender\":\"female\",\"homeworld\":\"https://swapi.dev/api/planets/2/\",\"films\":[\"https://swapi.dev/api/films/1/\",\"https://swapi.dev/api/films/2/\",\"https://swapi.dev/api/films/3/\",\"https://swapi.dev/api/films/6/\"],\"species\":[],\"vehicles\":[\"https://swapi.dev/api/vehicles/30/\"],\"starships\":[],\"created\":\"2014-12-10T15:20:09.791000Z\",\"edited\":\"2014-12-20T21:17:50.315000Z\",\"url\":\"https://swapi.dev/api/people/5/\"}\n"
   ]
  },
  {
   "cell_type": "code",
   "execution_count": 5,
   "id": "739d174d",
   "metadata": {},
   "outputs": [
    {
     "name": "stdout",
     "output_type": "stream",
     "text": [
      "<class 'dict'>\n"
     ]
    },
    {
     "data": {
      "text/plain": [
       "{'name': 'Leia Organa',\n",
       " 'height': '150',\n",
       " 'mass': '49',\n",
       " 'hair_color': 'brown',\n",
       " 'skin_color': 'light',\n",
       " 'eye_color': 'brown',\n",
       " 'birth_year': '19BBY',\n",
       " 'gender': 'female',\n",
       " 'homeworld': 'https://swapi.dev/api/planets/2/',\n",
       " 'films': ['https://swapi.dev/api/films/1/',\n",
       "  'https://swapi.dev/api/films/2/',\n",
       "  'https://swapi.dev/api/films/3/',\n",
       "  'https://swapi.dev/api/films/6/'],\n",
       " 'species': [],\n",
       " 'vehicles': ['https://swapi.dev/api/vehicles/30/'],\n",
       " 'starships': [],\n",
       " 'created': '2014-12-10T15:20:09.791000Z',\n",
       " 'edited': '2014-12-20T21:17:50.315000Z',\n",
       " 'url': 'https://swapi.dev/api/people/5/'}"
      ]
     },
     "execution_count": 5,
     "metadata": {},
     "output_type": "execute_result"
    }
   ],
   "source": [
    "#use .json to get a data structure to work with\n",
    "data = response.json()\n",
    "print(type(data))\n",
    "data"
   ]
  },
  {
   "cell_type": "markdown",
   "id": "998273b5",
   "metadata": {},
   "source": [
    "### Examine different API"
   ]
  },
  {
   "cell_type": "code",
   "execution_count": 6,
   "id": "0110acb6",
   "metadata": {},
   "outputs": [
    {
     "name": "stdout",
     "output_type": "stream",
     "text": [
      "{\"api\":\"/api/v1\",\"help\":\"/documentation\"}\n",
      "\n"
     ]
    }
   ],
   "source": [
    "base_url = 'https://python.zgulde.net'\n",
    "print(requests.get(base_url).text)"
   ]
  },
  {
   "cell_type": "code",
   "execution_count": 7,
   "id": "d31bda57",
   "metadata": {},
   "outputs": [
    {
     "data": {
      "text/plain": [
       "{'api': '/api/v1', 'help': '/documentation'}"
      ]
     },
     "execution_count": 7,
     "metadata": {},
     "output_type": "execute_result"
    }
   ],
   "source": [
    "{\"api\":\"/api/v1\",\"help\":\"/documentation\"}"
   ]
  },
  {
   "cell_type": "code",
   "execution_count": 8,
   "id": "bd7bb8bd",
   "metadata": {},
   "outputs": [
    {
     "name": "stdout",
     "output_type": "stream",
     "text": [
      "\n",
      "The API accepts GET requests for all endpoints, where endpoints are prefixed\n",
      "with\n",
      "\n",
      "    /api/{version}\n",
      "\n",
      "Where version is \"v1\"\n",
      "\n",
      "Valid endpoints:\n",
      "\n",
      "- /stores[/{store_id}]\n",
      "- /items[/{item_id}]\n",
      "- /sales[/{sale_id}]\n",
      "\n",
      "All endpoints accept a `page` parameter that can be used to navigate through\n",
      "the results.\n",
      "\n"
     ]
    }
   ],
   "source": [
    "response = requests.get(base_url + '/documentation')\n",
    "print(response.json()['payload'])"
   ]
  },
  {
   "cell_type": "code",
   "execution_count": 9,
   "id": "245f6134",
   "metadata": {},
   "outputs": [
    {
     "data": {
      "text/plain": [
       "dict_keys(['payload', 'status'])"
      ]
     },
     "execution_count": 9,
     "metadata": {},
     "output_type": "execute_result"
    }
   ],
   "source": [
    "response = requests.get('https://python.zgulde.net/api/v1/items')\n",
    "\n",
    "data = response.json()\n",
    "data.keys()"
   ]
  },
  {
   "cell_type": "code",
   "execution_count": 10,
   "id": "7853cc0a",
   "metadata": {},
   "outputs": [
    {
     "data": {
      "text/plain": [
       "dict_keys(['items', 'max_page', 'next_page', 'page', 'previous_page'])"
      ]
     },
     "execution_count": 10,
     "metadata": {},
     "output_type": "execute_result"
    }
   ],
   "source": [
    "data['payload'].keys()"
   ]
  },
  {
   "cell_type": "code",
   "execution_count": 11,
   "id": "de4e0d8c",
   "metadata": {},
   "outputs": [
    {
     "name": "stdout",
     "output_type": "stream",
     "text": [
      "current_page: 1\n",
      "max_page: 3\n",
      "next_page: /api/v1/items?page=2\n"
     ]
    }
   ],
   "source": [
    "current_page = data['payload']['page']\n",
    "max_page = data['payload']['max_page']\n",
    "next_page = data['payload']['next_page']\n",
    "\n",
    "print(f'current_page: {current_page}')\n",
    "print(f'max_page: {max_page}')\n",
    "print(f'next_page: {next_page}')\n",
    "\n"
   ]
  },
  {
   "cell_type": "code",
   "execution_count": 12,
   "id": "f1332d75",
   "metadata": {},
   "outputs": [
    {
     "data": {
      "text/plain": [
       "[{'item_brand': 'Riceland',\n",
       "  'item_id': 1,\n",
       "  'item_name': 'Riceland American Jazmine Rice',\n",
       "  'item_price': 0.84,\n",
       "  'item_upc12': '35200264013',\n",
       "  'item_upc14': '35200264013'},\n",
       " {'item_brand': 'Caress',\n",
       "  'item_id': 2,\n",
       "  'item_name': 'Caress Velvet Bliss Ultra Silkening Beauty Bar - 6 Ct',\n",
       "  'item_price': 6.44,\n",
       "  'item_upc12': '11111065925',\n",
       "  'item_upc14': '11111065925'}]"
      ]
     },
     "execution_count": 12,
     "metadata": {},
     "output_type": "execute_result"
    }
   ],
   "source": [
    "data['payload']['items'][:2]"
   ]
  },
  {
   "cell_type": "code",
   "execution_count": 13,
   "id": "772c3994",
   "metadata": {},
   "outputs": [
    {
     "data": {
      "text/html": [
       "<div>\n",
       "<style scoped>\n",
       "    .dataframe tbody tr th:only-of-type {\n",
       "        vertical-align: middle;\n",
       "    }\n",
       "\n",
       "    .dataframe tbody tr th {\n",
       "        vertical-align: top;\n",
       "    }\n",
       "\n",
       "    .dataframe thead th {\n",
       "        text-align: right;\n",
       "    }\n",
       "</style>\n",
       "<table border=\"1\" class=\"dataframe\">\n",
       "  <thead>\n",
       "    <tr style=\"text-align: right;\">\n",
       "      <th></th>\n",
       "      <th>item_brand</th>\n",
       "      <th>item_id</th>\n",
       "      <th>item_name</th>\n",
       "      <th>item_price</th>\n",
       "      <th>item_upc12</th>\n",
       "      <th>item_upc14</th>\n",
       "    </tr>\n",
       "  </thead>\n",
       "  <tbody>\n",
       "    <tr>\n",
       "      <th>0</th>\n",
       "      <td>Riceland</td>\n",
       "      <td>1</td>\n",
       "      <td>Riceland American Jazmine Rice</td>\n",
       "      <td>0.84</td>\n",
       "      <td>35200264013</td>\n",
       "      <td>35200264013</td>\n",
       "    </tr>\n",
       "    <tr>\n",
       "      <th>1</th>\n",
       "      <td>Caress</td>\n",
       "      <td>2</td>\n",
       "      <td>Caress Velvet Bliss Ultra Silkening Beauty Bar...</td>\n",
       "      <td>6.44</td>\n",
       "      <td>11111065925</td>\n",
       "      <td>11111065925</td>\n",
       "    </tr>\n",
       "    <tr>\n",
       "      <th>2</th>\n",
       "      <td>Earths Best</td>\n",
       "      <td>3</td>\n",
       "      <td>Earths Best Organic Fruit Yogurt Smoothie Mixe...</td>\n",
       "      <td>2.43</td>\n",
       "      <td>23923330139</td>\n",
       "      <td>23923330139</td>\n",
       "    </tr>\n",
       "    <tr>\n",
       "      <th>3</th>\n",
       "      <td>Boars Head</td>\n",
       "      <td>4</td>\n",
       "      <td>Boars Head Sliced White American Cheese - 120 Ct</td>\n",
       "      <td>3.14</td>\n",
       "      <td>208528800007</td>\n",
       "      <td>208528800007</td>\n",
       "    </tr>\n",
       "    <tr>\n",
       "      <th>4</th>\n",
       "      <td>Back To Nature</td>\n",
       "      <td>5</td>\n",
       "      <td>Back To Nature Gluten Free White Cheddar Rice ...</td>\n",
       "      <td>2.61</td>\n",
       "      <td>759283100036</td>\n",
       "      <td>759283100036</td>\n",
       "    </tr>\n",
       "  </tbody>\n",
       "</table>\n",
       "</div>"
      ],
      "text/plain": [
       "       item_brand  item_id                                          item_name  \\\n",
       "0        Riceland        1                     Riceland American Jazmine Rice   \n",
       "1          Caress        2  Caress Velvet Bliss Ultra Silkening Beauty Bar...   \n",
       "2     Earths Best        3  Earths Best Organic Fruit Yogurt Smoothie Mixe...   \n",
       "3      Boars Head        4   Boars Head Sliced White American Cheese - 120 Ct   \n",
       "4  Back To Nature        5  Back To Nature Gluten Free White Cheddar Rice ...   \n",
       "\n",
       "   item_price    item_upc12    item_upc14  \n",
       "0        0.84   35200264013   35200264013  \n",
       "1        6.44   11111065925   11111065925  \n",
       "2        2.43   23923330139   23923330139  \n",
       "3        3.14  208528800007  208528800007  \n",
       "4        2.61  759283100036  759283100036  "
      ]
     },
     "execution_count": 13,
     "metadata": {},
     "output_type": "execute_result"
    }
   ],
   "source": [
    "#turn this request into a pandas dataframe \n",
    "df = pd.DataFrame(data['payload']['items'])\n",
    "df.head()"
   ]
  },
  {
   "cell_type": "code",
   "execution_count": 14,
   "id": "5e5e7d26",
   "metadata": {},
   "outputs": [
    {
     "name": "stdout",
     "output_type": "stream",
     "text": [
      "current_page: 2\n",
      "max_page: 3\n",
      "next_page: /api/v1/items?page=3\n"
     ]
    }
   ],
   "source": [
    "#now that we've gotten the data from the first page, we can extract the data from the next page and add it to our DF\n",
    "response = requests.get(base_url + data['payload']['next_page'])\n",
    "data = response.json()\n",
    "\n",
    "current_page = data['payload']['page']\n",
    "max_page = data['payload']['max_page']\n",
    "next_page = data['payload']['next_page']\n",
    "\n",
    "print(f'current_page: {current_page}')\n",
    "print(f'max_page: {max_page}')\n",
    "print(f'next_page: {next_page}')\n",
    "\n",
    "df = pd.concat([df, pd.DataFrame(data['payload']['items'])]).reset_index()"
   ]
  },
  {
   "cell_type": "code",
   "execution_count": 15,
   "id": "d2338620",
   "metadata": {},
   "outputs": [
    {
     "name": "stdout",
     "output_type": "stream",
     "text": [
      "current_page: 3\n",
      "max_page: 3\n",
      "next_page: None\n"
     ]
    }
   ],
   "source": [
    "#repeat the process again \n",
    "response = requests.get(base_url + data['payload']['next_page'])\n",
    "data = response.json()\n",
    "\n",
    "current_page = data['payload']['page']\n",
    "max_page = data['payload']['max_page']\n",
    "next_page = data['payload']['next_page']\n",
    "\n",
    "print(f'current_page: {current_page}')\n",
    "print(f'max_page: {max_page}')\n",
    "print(f'next_page: {next_page}')\n",
    "\n",
    "df = pd.concat([df, pd.DataFrame(data['payload']['items'])]).reset_index()"
   ]
  },
  {
   "cell_type": "code",
   "execution_count": 16,
   "id": "821d4fa5",
   "metadata": {},
   "outputs": [
    {
     "data": {
      "text/plain": [
       "(50, 8)"
      ]
     },
     "execution_count": 16,
     "metadata": {},
     "output_type": "execute_result"
    }
   ],
   "source": [
    "#When the next_page is 'none', we'll stop making requests \n",
    "df.shape"
   ]
  },
  {
   "cell_type": "markdown",
   "id": "f5b28c9a",
   "metadata": {},
   "source": [
    "### Exercises"
   ]
  },
  {
   "cell_type": "code",
   "execution_count": 17,
   "id": "db5e7b7c",
   "metadata": {},
   "outputs": [],
   "source": [
    "# Examine just the base URL \n",
    "base_url = requests.get('https://api.data.codeup.com')"
   ]
  },
  {
   "cell_type": "code",
   "execution_count": 18,
   "id": "87e9310f",
   "metadata": {},
   "outputs": [],
   "source": [
    "response = base_url"
   ]
  },
  {
   "cell_type": "code",
   "execution_count": 19,
   "id": "d11e2618",
   "metadata": {},
   "outputs": [
    {
     "name": "stdout",
     "output_type": "stream",
     "text": [
      "{\"api\":\"/api/v1\",\"help\":\"/documentation\"}\n",
      "\n"
     ]
    }
   ],
   "source": [
    "print(response.text)"
   ]
  },
  {
   "cell_type": "code",
   "execution_count": 20,
   "id": "a1fb4734",
   "metadata": {},
   "outputs": [
    {
     "name": "stdout",
     "output_type": "stream",
     "text": [
      "\n",
      "The API accepts GET requests for all endpoints, where endpoints are prefixed\n",
      "with\n",
      "\n",
      "    /api/{version}\n",
      "\n",
      "Where version is \"v1\"\n",
      "\n",
      "Valid endpoints:\n",
      "\n",
      "- /stores[/{store_id}]\n",
      "- /items[/{item_id}]\n",
      "- /sales[/{sale_id}]\n",
      "\n",
      "All endpoints accept a `page` parameter that can be used to navigate through\n",
      "the results.\n",
      "\n"
     ]
    }
   ],
   "source": [
    "#The API provides some documentation; here is the code to examine it \n",
    "url = 'https://api.data.codeup.com/documentation'\n",
    "response = requests.get(url)\n",
    "print(response.json()['payload'])"
   ]
  },
  {
   "cell_type": "markdown",
   "id": "f1437cbc",
   "metadata": {},
   "source": [
    "### ITEMS "
   ]
  },
  {
   "cell_type": "code",
   "execution_count": 20,
   "id": "976bb45d",
   "metadata": {},
   "outputs": [
    {
     "data": {
      "text/plain": [
       "dict_keys(['payload', 'status'])"
      ]
     },
     "execution_count": 20,
     "metadata": {},
     "output_type": "execute_result"
    }
   ],
   "source": [
    "# Examine items \n",
    "response = requests.get('https://api.data.codeup.com/api/v1/items')\n",
    "data = response.json()\n",
    "# look at the dictionary keys \n",
    "data.keys()"
   ]
  },
  {
   "cell_type": "code",
   "execution_count": 21,
   "id": "a0362bab",
   "metadata": {},
   "outputs": [
    {
     "data": {
      "text/plain": [
       "dict_keys(['items', 'max_page', 'next_page', 'page', 'previous_page'])"
      ]
     },
     "execution_count": 21,
     "metadata": {},
     "output_type": "execute_result"
    }
   ],
   "source": [
    "#within payload, let's look at the keys/content\n",
    "data['payload'].keys()"
   ]
  },
  {
   "cell_type": "code",
   "execution_count": 22,
   "id": "8c0e93ab",
   "metadata": {},
   "outputs": [
    {
     "name": "stdout",
     "output_type": "stream",
     "text": [
      "current_page: 1\n",
      "max_page: 3\n",
      "next_page: /api/v1/items?page=2\n"
     ]
    }
   ],
   "source": [
    "#use built-in properties to get to subsequent pages and look at the shape of the pages \n",
    "current_page = data['payload']['page']\n",
    "max_page = data['payload']['max_page']\n",
    "next_page = data['payload']['next_page']\n",
    "\n",
    "print(f'current_page: {current_page}')\n",
    "print(f'max_page: {max_page}')\n",
    "print(f'next_page: {next_page}')"
   ]
  },
  {
   "cell_type": "code",
   "execution_count": 23,
   "id": "b34906cb",
   "metadata": {},
   "outputs": [
    {
     "name": "stdout",
     "output_type": "stream",
     "text": [
      "/rFetching page 2/3 https://api.data.codeup.com/api/v1/items?page=2/rFetching page 3/3 https://api.data.codeup.com/api/v1/items?page=3"
     ]
    }
   ],
   "source": [
    "base_url = 'https://api.data.codeup.com/api/v1/items?page='\n",
    "items = []\n",
    "\n",
    "#first request \n",
    "url = base_url + str(1)\n",
    "#making a request and storing the response to the request as a string \n",
    "response = requests.get(url)\n",
    "#storing the response in json form \n",
    "data = response.json()\n",
    "max_page = data['payload']['max_page']\n",
    "items.extend(data['payload']['items'])\n",
    "page_range = range(2, max_page + 1)\n",
    "#request to get the remaining pages \n",
    "for page in page_range: \n",
    "    url = base_url + str(page)\n",
    "    print(f'/rFetching page {page}/{max_page} {url}', end='')\n",
    "    response = requests.get(url)\n",
    "    data = response.json()\n",
    "    items.extend(data['payload']['items'])\n",
    "    "
   ]
  },
  {
   "cell_type": "code",
   "execution_count": 24,
   "id": "4f00120e",
   "metadata": {},
   "outputs": [
    {
     "data": {
      "text/html": [
       "<div>\n",
       "<style scoped>\n",
       "    .dataframe tbody tr th:only-of-type {\n",
       "        vertical-align: middle;\n",
       "    }\n",
       "\n",
       "    .dataframe tbody tr th {\n",
       "        vertical-align: top;\n",
       "    }\n",
       "\n",
       "    .dataframe thead th {\n",
       "        text-align: right;\n",
       "    }\n",
       "</style>\n",
       "<table border=\"1\" class=\"dataframe\">\n",
       "  <thead>\n",
       "    <tr style=\"text-align: right;\">\n",
       "      <th></th>\n",
       "      <th>item_brand</th>\n",
       "      <th>item_id</th>\n",
       "      <th>item_name</th>\n",
       "      <th>item_price</th>\n",
       "      <th>item_upc12</th>\n",
       "      <th>item_upc14</th>\n",
       "    </tr>\n",
       "  </thead>\n",
       "  <tbody>\n",
       "    <tr>\n",
       "      <th>0</th>\n",
       "      <td>Riceland</td>\n",
       "      <td>1</td>\n",
       "      <td>Riceland American Jazmine Rice</td>\n",
       "      <td>0.84</td>\n",
       "      <td>35200264013</td>\n",
       "      <td>35200264013</td>\n",
       "    </tr>\n",
       "    <tr>\n",
       "      <th>1</th>\n",
       "      <td>Caress</td>\n",
       "      <td>2</td>\n",
       "      <td>Caress Velvet Bliss Ultra Silkening Beauty Bar...</td>\n",
       "      <td>6.44</td>\n",
       "      <td>11111065925</td>\n",
       "      <td>11111065925</td>\n",
       "    </tr>\n",
       "    <tr>\n",
       "      <th>2</th>\n",
       "      <td>Earths Best</td>\n",
       "      <td>3</td>\n",
       "      <td>Earths Best Organic Fruit Yogurt Smoothie Mixe...</td>\n",
       "      <td>2.43</td>\n",
       "      <td>23923330139</td>\n",
       "      <td>23923330139</td>\n",
       "    </tr>\n",
       "    <tr>\n",
       "      <th>3</th>\n",
       "      <td>Boars Head</td>\n",
       "      <td>4</td>\n",
       "      <td>Boars Head Sliced White American Cheese - 120 Ct</td>\n",
       "      <td>3.14</td>\n",
       "      <td>208528800007</td>\n",
       "      <td>208528800007</td>\n",
       "    </tr>\n",
       "    <tr>\n",
       "      <th>4</th>\n",
       "      <td>Back To Nature</td>\n",
       "      <td>5</td>\n",
       "      <td>Back To Nature Gluten Free White Cheddar Rice ...</td>\n",
       "      <td>2.61</td>\n",
       "      <td>759283100036</td>\n",
       "      <td>759283100036</td>\n",
       "    </tr>\n",
       "  </tbody>\n",
       "</table>\n",
       "</div>"
      ],
      "text/plain": [
       "       item_brand  item_id                                          item_name  \\\n",
       "0        Riceland        1                     Riceland American Jazmine Rice   \n",
       "1          Caress        2  Caress Velvet Bliss Ultra Silkening Beauty Bar...   \n",
       "2     Earths Best        3  Earths Best Organic Fruit Yogurt Smoothie Mixe...   \n",
       "3      Boars Head        4   Boars Head Sliced White American Cheese - 120 Ct   \n",
       "4  Back To Nature        5  Back To Nature Gluten Free White Cheddar Rice ...   \n",
       "\n",
       "   item_price    item_upc12    item_upc14  \n",
       "0        0.84   35200264013   35200264013  \n",
       "1        6.44   11111065925   11111065925  \n",
       "2        2.43   23923330139   23923330139  \n",
       "3        3.14  208528800007  208528800007  \n",
       "4        2.61  759283100036  759283100036  "
      ]
     },
     "execution_count": 24,
     "metadata": {},
     "output_type": "execute_result"
    }
   ],
   "source": [
    "items = pd.DataFrame(items)\n",
    "items.head()"
   ]
  },
  {
   "cell_type": "code",
   "execution_count": 25,
   "id": "fc6eff07",
   "metadata": {},
   "outputs": [],
   "source": [
    "items.to_csv('items.csv', index = False)"
   ]
  },
  {
   "cell_type": "code",
   "execution_count": 26,
   "id": "79d05ff2",
   "metadata": {},
   "outputs": [
    {
     "data": {
      "text/plain": [
       "(50, 6)"
      ]
     },
     "execution_count": 26,
     "metadata": {},
     "output_type": "execute_result"
    }
   ],
   "source": [
    "items.shape"
   ]
  },
  {
   "cell_type": "markdown",
   "id": "87ce07c4",
   "metadata": {},
   "source": [
    "### Stores "
   ]
  },
  {
   "cell_type": "code",
   "execution_count": 33,
   "id": "e67f9709",
   "metadata": {},
   "outputs": [
    {
     "data": {
      "text/plain": [
       "dict_keys(['payload', 'status'])"
      ]
     },
     "execution_count": 33,
     "metadata": {},
     "output_type": "execute_result"
    }
   ],
   "source": [
    "# Examine items \n",
    "response = requests.get('https://python.zgulde.net/api/v1/stores')\n",
    "data = response.json()\n",
    "#look at the dictionary keys \n",
    "data.keys()"
   ]
  },
  {
   "cell_type": "code",
   "execution_count": 34,
   "id": "c090f740",
   "metadata": {},
   "outputs": [
    {
     "data": {
      "text/plain": [
       "dict_keys(['max_page', 'next_page', 'page', 'previous_page', 'stores'])"
      ]
     },
     "execution_count": 34,
     "metadata": {},
     "output_type": "execute_result"
    }
   ],
   "source": [
    "#within payload, let's look at the keys/content\n",
    "data['payload'].keys()"
   ]
  },
  {
   "cell_type": "code",
   "execution_count": 35,
   "id": "cf060139",
   "metadata": {},
   "outputs": [
    {
     "name": "stdout",
     "output_type": "stream",
     "text": [
      "current_page: 1\n",
      "max_page: 1\n",
      "next_page: None\n"
     ]
    }
   ],
   "source": [
    "#use built-in properties to get to subsequent pages and look at the shape of the pages \n",
    "current_page = data['payload']['page']\n",
    "max_page = data['payload']['max_page']\n",
    "next_page = data['payload']['next_page']\n",
    "\n",
    "print(f'current_page: {current_page}')\n",
    "print(f'max_page: {max_page}')\n",
    "print(f'next_page: {next_page}')"
   ]
  },
  {
   "cell_type": "code",
   "execution_count": 36,
   "id": "e6865763",
   "metadata": {},
   "outputs": [
    {
     "data": {
      "text/html": [
       "<div>\n",
       "<style scoped>\n",
       "    .dataframe tbody tr th:only-of-type {\n",
       "        vertical-align: middle;\n",
       "    }\n",
       "\n",
       "    .dataframe tbody tr th {\n",
       "        vertical-align: top;\n",
       "    }\n",
       "\n",
       "    .dataframe thead th {\n",
       "        text-align: right;\n",
       "    }\n",
       "</style>\n",
       "<table border=\"1\" class=\"dataframe\">\n",
       "  <thead>\n",
       "    <tr style=\"text-align: right;\">\n",
       "      <th></th>\n",
       "      <th>store_address</th>\n",
       "      <th>store_city</th>\n",
       "      <th>store_id</th>\n",
       "      <th>store_state</th>\n",
       "      <th>store_zipcode</th>\n",
       "    </tr>\n",
       "  </thead>\n",
       "  <tbody>\n",
       "    <tr>\n",
       "      <th>0</th>\n",
       "      <td>12125 Alamo Ranch Pkwy</td>\n",
       "      <td>San Antonio</td>\n",
       "      <td>1</td>\n",
       "      <td>TX</td>\n",
       "      <td>78253</td>\n",
       "    </tr>\n",
       "    <tr>\n",
       "      <th>1</th>\n",
       "      <td>9255 FM 471 West</td>\n",
       "      <td>San Antonio</td>\n",
       "      <td>2</td>\n",
       "      <td>TX</td>\n",
       "      <td>78251</td>\n",
       "    </tr>\n",
       "    <tr>\n",
       "      <th>2</th>\n",
       "      <td>2118 Fredericksburg Rdj</td>\n",
       "      <td>San Antonio</td>\n",
       "      <td>3</td>\n",
       "      <td>TX</td>\n",
       "      <td>78201</td>\n",
       "    </tr>\n",
       "    <tr>\n",
       "      <th>3</th>\n",
       "      <td>516 S Flores St</td>\n",
       "      <td>San Antonio</td>\n",
       "      <td>4</td>\n",
       "      <td>TX</td>\n",
       "      <td>78204</td>\n",
       "    </tr>\n",
       "    <tr>\n",
       "      <th>4</th>\n",
       "      <td>1520 Austin Hwy</td>\n",
       "      <td>San Antonio</td>\n",
       "      <td>5</td>\n",
       "      <td>TX</td>\n",
       "      <td>78218</td>\n",
       "    </tr>\n",
       "  </tbody>\n",
       "</table>\n",
       "</div>"
      ],
      "text/plain": [
       "             store_address   store_city  store_id store_state store_zipcode\n",
       "0   12125 Alamo Ranch Pkwy  San Antonio         1          TX         78253\n",
       "1         9255 FM 471 West  San Antonio         2          TX         78251\n",
       "2  2118 Fredericksburg Rdj  San Antonio         3          TX         78201\n",
       "3          516 S Flores St  San Antonio         4          TX         78204\n",
       "4          1520 Austin Hwy  San Antonio         5          TX         78218"
      ]
     },
     "execution_count": 36,
     "metadata": {},
     "output_type": "execute_result"
    }
   ],
   "source": [
    "# turn the data into a pandas dataframe \n",
    "df = pd.DataFrame(data['payload']['stores'])\n",
    "df.head()"
   ]
  },
  {
   "cell_type": "code",
   "execution_count": 37,
   "id": "6ac8349a",
   "metadata": {},
   "outputs": [
    {
     "data": {
      "text/plain": [
       "(10, 5)"
      ]
     },
     "execution_count": 37,
     "metadata": {},
     "output_type": "execute_result"
    }
   ],
   "source": [
    "#examine the shape\n",
    "df.shape"
   ]
  },
  {
   "cell_type": "code",
   "execution_count": 39,
   "id": "749f11ed",
   "metadata": {},
   "outputs": [],
   "source": [
    "stores.to_csv('stores.csv', index = False)"
   ]
  },
  {
   "cell_type": "markdown",
   "id": "fc73e928",
   "metadata": {},
   "source": [
    "### Extract the data for sales "
   ]
  },
  {
   "cell_type": "code",
   "execution_count": 40,
   "id": "08d1527c",
   "metadata": {},
   "outputs": [
    {
     "data": {
      "text/plain": [
       "dict_keys(['payload', 'status'])"
      ]
     },
     "execution_count": 40,
     "metadata": {},
     "output_type": "execute_result"
    }
   ],
   "source": [
    "# Examine items \n",
    "response = requests.get('https://python.zgulde.net/api/v1/sales')\n",
    "data = response.json()\n",
    "#look at the dictionary keys \n",
    "data.keys()"
   ]
  },
  {
   "cell_type": "code",
   "execution_count": 41,
   "id": "3676d02a",
   "metadata": {},
   "outputs": [
    {
     "data": {
      "text/plain": [
       "dict_keys(['max_page', 'next_page', 'page', 'previous_page', 'sales'])"
      ]
     },
     "execution_count": 41,
     "metadata": {},
     "output_type": "execute_result"
    }
   ],
   "source": [
    "#within payload, let's look at the keys/content\n",
    "data['payload'].keys()"
   ]
  },
  {
   "cell_type": "code",
   "execution_count": 42,
   "id": "343e3d8d",
   "metadata": {},
   "outputs": [
    {
     "name": "stdout",
     "output_type": "stream",
     "text": [
      "current_page: 1\n",
      "max_page: 183\n",
      "next_page: /api/v1/sales?page=2\n"
     ]
    }
   ],
   "source": [
    "#use built-in properties to get to subsequent pages and look at the shape of the pages \n",
    "current_page = data['payload']['page']\n",
    "max_page = data['payload']['max_page']\n",
    "next_page = data['payload']['next_page']\n",
    "\n",
    "print(f'current_page: {current_page}')\n",
    "print(f'max_page: {max_page}')\n",
    "print(f'next_page: {next_page}')"
   ]
  },
  {
   "cell_type": "code",
   "execution_count": 43,
   "id": "1c51fdfb",
   "metadata": {},
   "outputs": [
    {
     "name": "stdout",
     "output_type": "stream",
     "text": [
      "/rFetching page 2/183 https://api.data.codeup.com/api/v1/sales?page=2/rFetching page 3/183 https://api.data.codeup.com/api/v1/sales?page=3/rFetching page 4/183 https://api.data.codeup.com/api/v1/sales?page=4/rFetching page 5/183 https://api.data.codeup.com/api/v1/sales?page=5/rFetching page 6/183 https://api.data.codeup.com/api/v1/sales?page=6/rFetching page 7/183 https://api.data.codeup.com/api/v1/sales?page=7/rFetching page 8/183 https://api.data.codeup.com/api/v1/sales?page=8/rFetching page 9/183 https://api.data.codeup.com/api/v1/sales?page=9/rFetching page 10/183 https://api.data.codeup.com/api/v1/sales?page=10/rFetching page 11/183 https://api.data.codeup.com/api/v1/sales?page=11/rFetching page 12/183 https://api.data.codeup.com/api/v1/sales?page=12/rFetching page 13/183 https://api.data.codeup.com/api/v1/sales?page=13/rFetching page 14/183 https://api.data.codeup.com/api/v1/sales?page=14/rFetching page 15/183 https://api.data.codeup.com/api/v1/sales?page=15/rFetching page 16/183 https://api.data.codeup.com/api/v1/sales?page=16/rFetching page 17/183 https://api.data.codeup.com/api/v1/sales?page=17/rFetching page 18/183 https://api.data.codeup.com/api/v1/sales?page=18/rFetching page 19/183 https://api.data.codeup.com/api/v1/sales?page=19/rFetching page 20/183 https://api.data.codeup.com/api/v1/sales?page=20/rFetching page 21/183 https://api.data.codeup.com/api/v1/sales?page=21/rFetching page 22/183 https://api.data.codeup.com/api/v1/sales?page=22/rFetching page 23/183 https://api.data.codeup.com/api/v1/sales?page=23/rFetching page 24/183 https://api.data.codeup.com/api/v1/sales?page=24/rFetching page 25/183 https://api.data.codeup.com/api/v1/sales?page=25/rFetching page 26/183 https://api.data.codeup.com/api/v1/sales?page=26/rFetching page 27/183 https://api.data.codeup.com/api/v1/sales?page=27/rFetching page 28/183 https://api.data.codeup.com/api/v1/sales?page=28/rFetching page 29/183 https://api.data.codeup.com/api/v1/sales?page=29/rFetching page 30/183 https://api.data.codeup.com/api/v1/sales?page=30/rFetching page 31/183 https://api.data.codeup.com/api/v1/sales?page=31/rFetching page 32/183 https://api.data.codeup.com/api/v1/sales?page=32/rFetching page 33/183 https://api.data.codeup.com/api/v1/sales?page=33/rFetching page 34/183 https://api.data.codeup.com/api/v1/sales?page=34/rFetching page 35/183 https://api.data.codeup.com/api/v1/sales?page=35/rFetching page 36/183 https://api.data.codeup.com/api/v1/sales?page=36/rFetching page 37/183 https://api.data.codeup.com/api/v1/sales?page=37/rFetching page 38/183 https://api.data.codeup.com/api/v1/sales?page=38/rFetching page 39/183 https://api.data.codeup.com/api/v1/sales?page=39/rFetching page 40/183 https://api.data.codeup.com/api/v1/sales?page=40/rFetching page 41/183 https://api.data.codeup.com/api/v1/sales?page=41/rFetching page 42/183 https://api.data.codeup.com/api/v1/sales?page=42/rFetching page 43/183 https://api.data.codeup.com/api/v1/sales?page=43/rFetching page 44/183 https://api.data.codeup.com/api/v1/sales?page=44/rFetching page 45/183 https://api.data.codeup.com/api/v1/sales?page=45/rFetching page 46/183 https://api.data.codeup.com/api/v1/sales?page=46/rFetching page 47/183 https://api.data.codeup.com/api/v1/sales?page=47/rFetching page 48/183 https://api.data.codeup.com/api/v1/sales?page=48/rFetching page 49/183 https://api.data.codeup.com/api/v1/sales?page=49/rFetching page 50/183 https://api.data.codeup.com/api/v1/sales?page=50/rFetching page 51/183 https://api.data.codeup.com/api/v1/sales?page=51/rFetching page 52/183 https://api.data.codeup.com/api/v1/sales?page=52/rFetching page 53/183 https://api.data.codeup.com/api/v1/sales?page=53/rFetching page 54/183 https://api.data.codeup.com/api/v1/sales?page=54/rFetching page 55/183 https://api.data.codeup.com/api/v1/sales?page=55/rFetching page 56/183 https://api.data.codeup.com/api/v1/sales?page=56/rFetching page 57/183 https://api.data.codeup.com/api/v1/sales?page=57/rFetching page 58/183 https://api.data.codeup.com/api/v1/sales?page=58/rFetching page 59/183 https://api.data.codeup.com/api/v1/sales?page=59/rFetching page 60/183 https://api.data.codeup.com/api/v1/sales?page=60/rFetching page 61/183 https://api.data.codeup.com/api/v1/sales?page=61/rFetching page 62/183 https://api.data.codeup.com/api/v1/sales?page=62/rFetching page 63/183 https://api.data.codeup.com/api/v1/sales?page=63/rFetching page 64/183 https://api.data.codeup.com/api/v1/sales?page=64/rFetching page 65/183 https://api.data.codeup.com/api/v1/sales?page=65/rFetching page 66/183 https://api.data.codeup.com/api/v1/sales?page=66/rFetching page 67/183 https://api.data.codeup.com/api/v1/sales?page=67/rFetching page 68/183 https://api.data.codeup.com/api/v1/sales?page=68/rFetching page 69/183 https://api.data.codeup.com/api/v1/sales?page=69/rFetching page 70/183 https://api.data.codeup.com/api/v1/sales?page=70/rFetching page 71/183 https://api.data.codeup.com/api/v1/sales?page=71/rFetching page 72/183 https://api.data.codeup.com/api/v1/sales?page=72/rFetching page 73/183 https://api.data.codeup.com/api/v1/sales?page=73/rFetching page 74/183 https://api.data.codeup.com/api/v1/sales?page=74/rFetching page 75/183 https://api.data.codeup.com/api/v1/sales?page=75/rFetching page 76/183 https://api.data.codeup.com/api/v1/sales?page=76/rFetching page 77/183 https://api.data.codeup.com/api/v1/sales?page=77/rFetching page 78/183 https://api.data.codeup.com/api/v1/sales?page=78/rFetching page 79/183 https://api.data.codeup.com/api/v1/sales?page=79/rFetching page 80/183 https://api.data.codeup.com/api/v1/sales?page=80/rFetching page 81/183 https://api.data.codeup.com/api/v1/sales?page=81/rFetching page 82/183 https://api.data.codeup.com/api/v1/sales?page=82/rFetching page 83/183 https://api.data.codeup.com/api/v1/sales?page=83/rFetching page 84/183 https://api.data.codeup.com/api/v1/sales?page=84/rFetching page 85/183 https://api.data.codeup.com/api/v1/sales?page=85/rFetching page 86/183 https://api.data.codeup.com/api/v1/sales?page=86/rFetching page 87/183 https://api.data.codeup.com/api/v1/sales?page=87/rFetching page 88/183 https://api.data.codeup.com/api/v1/sales?page=88/rFetching page 89/183 https://api.data.codeup.com/api/v1/sales?page=89/rFetching page 90/183 https://api.data.codeup.com/api/v1/sales?page=90/rFetching page 91/183 https://api.data.codeup.com/api/v1/sales?page=91/rFetching page 92/183 https://api.data.codeup.com/api/v1/sales?page=92/rFetching page 93/183 https://api.data.codeup.com/api/v1/sales?page=93/rFetching page 94/183 https://api.data.codeup.com/api/v1/sales?page=94/rFetching page 95/183 https://api.data.codeup.com/api/v1/sales?page=95/rFetching page 96/183 https://api.data.codeup.com/api/v1/sales?page=96/rFetching page 97/183 https://api.data.codeup.com/api/v1/sales?page=97/rFetching page 98/183 https://api.data.codeup.com/api/v1/sales?page=98/rFetching page 99/183 https://api.data.codeup.com/api/v1/sales?page=99/rFetching page 100/183 https://api.data.codeup.com/api/v1/sales?page=100/rFetching page 101/183 https://api.data.codeup.com/api/v1/sales?page=101/rFetching page 102/183 https://api.data.codeup.com/api/v1/sales?page=102/rFetching page 103/183 https://api.data.codeup.com/api/v1/sales?page=103/rFetching page 104/183 https://api.data.codeup.com/api/v1/sales?page=104/rFetching page 105/183 https://api.data.codeup.com/api/v1/sales?page=105/rFetching page 106/183 https://api.data.codeup.com/api/v1/sales?page=106/rFetching page 107/183 https://api.data.codeup.com/api/v1/sales?page=107/rFetching page 108/183 https://api.data.codeup.com/api/v1/sales?page=108/rFetching page 109/183 https://api.data.codeup.com/api/v1/sales?page=109/rFetching page 110/183 https://api.data.codeup.com/api/v1/sales?page=110/rFetching page 111/183 https://api.data.codeup.com/api/v1/sales?page=111/rFetching page 112/183 https://api.data.codeup.com/api/v1/sales?page=112/rFetching page 113/183 https://api.data.codeup.com/api/v1/sales?page=113/rFetching page 114/183 https://api.data.codeup.com/api/v1/sales?page=114/rFetching page 115/183 https://api.data.codeup.com/api/v1/sales?page=115/rFetching page 116/183 https://api.data.codeup.com/api/v1/sales?page=116/rFetching page 117/183 https://api.data.codeup.com/api/v1/sales?page=117"
     ]
    },
    {
     "name": "stdout",
     "output_type": "stream",
     "text": [
      "/rFetching page 118/183 https://api.data.codeup.com/api/v1/sales?page=118/rFetching page 119/183 https://api.data.codeup.com/api/v1/sales?page=119/rFetching page 120/183 https://api.data.codeup.com/api/v1/sales?page=120/rFetching page 121/183 https://api.data.codeup.com/api/v1/sales?page=121/rFetching page 122/183 https://api.data.codeup.com/api/v1/sales?page=122/rFetching page 123/183 https://api.data.codeup.com/api/v1/sales?page=123/rFetching page 124/183 https://api.data.codeup.com/api/v1/sales?page=124/rFetching page 125/183 https://api.data.codeup.com/api/v1/sales?page=125/rFetching page 126/183 https://api.data.codeup.com/api/v1/sales?page=126/rFetching page 127/183 https://api.data.codeup.com/api/v1/sales?page=127/rFetching page 128/183 https://api.data.codeup.com/api/v1/sales?page=128/rFetching page 129/183 https://api.data.codeup.com/api/v1/sales?page=129/rFetching page 130/183 https://api.data.codeup.com/api/v1/sales?page=130/rFetching page 131/183 https://api.data.codeup.com/api/v1/sales?page=131/rFetching page 132/183 https://api.data.codeup.com/api/v1/sales?page=132/rFetching page 133/183 https://api.data.codeup.com/api/v1/sales?page=133/rFetching page 134/183 https://api.data.codeup.com/api/v1/sales?page=134/rFetching page 135/183 https://api.data.codeup.com/api/v1/sales?page=135/rFetching page 136/183 https://api.data.codeup.com/api/v1/sales?page=136/rFetching page 137/183 https://api.data.codeup.com/api/v1/sales?page=137/rFetching page 138/183 https://api.data.codeup.com/api/v1/sales?page=138/rFetching page 139/183 https://api.data.codeup.com/api/v1/sales?page=139/rFetching page 140/183 https://api.data.codeup.com/api/v1/sales?page=140/rFetching page 141/183 https://api.data.codeup.com/api/v1/sales?page=141/rFetching page 142/183 https://api.data.codeup.com/api/v1/sales?page=142/rFetching page 143/183 https://api.data.codeup.com/api/v1/sales?page=143/rFetching page 144/183 https://api.data.codeup.com/api/v1/sales?page=144/rFetching page 145/183 https://api.data.codeup.com/api/v1/sales?page=145/rFetching page 146/183 https://api.data.codeup.com/api/v1/sales?page=146/rFetching page 147/183 https://api.data.codeup.com/api/v1/sales?page=147/rFetching page 148/183 https://api.data.codeup.com/api/v1/sales?page=148/rFetching page 149/183 https://api.data.codeup.com/api/v1/sales?page=149/rFetching page 150/183 https://api.data.codeup.com/api/v1/sales?page=150/rFetching page 151/183 https://api.data.codeup.com/api/v1/sales?page=151/rFetching page 152/183 https://api.data.codeup.com/api/v1/sales?page=152/rFetching page 153/183 https://api.data.codeup.com/api/v1/sales?page=153/rFetching page 154/183 https://api.data.codeup.com/api/v1/sales?page=154/rFetching page 155/183 https://api.data.codeup.com/api/v1/sales?page=155/rFetching page 156/183 https://api.data.codeup.com/api/v1/sales?page=156/rFetching page 157/183 https://api.data.codeup.com/api/v1/sales?page=157/rFetching page 158/183 https://api.data.codeup.com/api/v1/sales?page=158/rFetching page 159/183 https://api.data.codeup.com/api/v1/sales?page=159/rFetching page 160/183 https://api.data.codeup.com/api/v1/sales?page=160/rFetching page 161/183 https://api.data.codeup.com/api/v1/sales?page=161/rFetching page 162/183 https://api.data.codeup.com/api/v1/sales?page=162/rFetching page 163/183 https://api.data.codeup.com/api/v1/sales?page=163/rFetching page 164/183 https://api.data.codeup.com/api/v1/sales?page=164/rFetching page 165/183 https://api.data.codeup.com/api/v1/sales?page=165/rFetching page 166/183 https://api.data.codeup.com/api/v1/sales?page=166/rFetching page 167/183 https://api.data.codeup.com/api/v1/sales?page=167/rFetching page 168/183 https://api.data.codeup.com/api/v1/sales?page=168/rFetching page 169/183 https://api.data.codeup.com/api/v1/sales?page=169/rFetching page 170/183 https://api.data.codeup.com/api/v1/sales?page=170/rFetching page 171/183 https://api.data.codeup.com/api/v1/sales?page=171/rFetching page 172/183 https://api.data.codeup.com/api/v1/sales?page=172/rFetching page 173/183 https://api.data.codeup.com/api/v1/sales?page=173/rFetching page 174/183 https://api.data.codeup.com/api/v1/sales?page=174/rFetching page 175/183 https://api.data.codeup.com/api/v1/sales?page=175/rFetching page 176/183 https://api.data.codeup.com/api/v1/sales?page=176/rFetching page 177/183 https://api.data.codeup.com/api/v1/sales?page=177/rFetching page 178/183 https://api.data.codeup.com/api/v1/sales?page=178/rFetching page 179/183 https://api.data.codeup.com/api/v1/sales?page=179/rFetching page 180/183 https://api.data.codeup.com/api/v1/sales?page=180/rFetching page 181/183 https://api.data.codeup.com/api/v1/sales?page=181/rFetching page 182/183 https://api.data.codeup.com/api/v1/sales?page=182/rFetching page 183/183 https://api.data.codeup.com/api/v1/sales?page=183"
     ]
    }
   ],
   "source": [
    "#define the base_url \n",
    "base_url = 'https://api.data.codeup.com/api/v1/sales?page='\n",
    "#provide an open list to extend to \n",
    "sales = []\n",
    "#make the first request \n",
    "url = base_url + str(1)\n",
    "#use requests to get url and store as variable \n",
    "response = requests.get(url)\n",
    "#store variable into json file \n",
    "data = response.json()\n",
    "#define max page \n",
    "max_page = data['payload']['max_page']\n",
    "#add payload sales as first entry to sales list defined earlier \n",
    "sales.extend(data['payload']['sales'])\n",
    "\n",
    "#first page request is complete, now to add the rest of the dataframe \n",
    "#Add 1 to max_page because the range() function is exclusive of the endpoint \n",
    "\n",
    "page_range = range(2, max_page + 1)\n",
    "\n",
    "for page in page_range: \n",
    "    '''\n",
    "    #define the base url \n",
    "    domain = 'https://api.data.codeup.com'\n",
    "    # path or where we are accessing the data inside the url\n",
    "    endpoint = '/api/v1/sales'\n",
    "    # create an empty list to place the data within \n",
    "    sales = []\n",
    "    \n",
    "    while True: \n",
    "    #combine base and endpoint to allow for looping \n",
    "    url = domain + endpoint \n",
    "    #making a request and storing the response to the request as a string \n",
    "    response = requests.get(url)\n",
    "    #storing the response in json form \n",
    "    data = response.json()\n",
    "    #prints the page number for which the data is being acquired out of the total number of pages, as well as the URL\n",
    "    # the \\r replaces the previous print statement with the new one based on the number of characters in the new statement.\n",
    "    print(f'\\rGetting page {data['payload']['page']}) of {data['payload']['max_page']}: {url}', end='')\n",
    "    # .extend adds elements from a list to another list \n",
    "    items.extend(data['payload']['sales'])\n",
    "    # reassigning the endpoint variable to have the path to the next page. \n",
    "    endpoint = data['payload']['next_page']\n",
    "    if endpint is None: \n",
    "    break\n",
    "    ''' \n",
    "    url = base_url + str(page)\n",
    "    print(f'/rFetching page {page}/{max_page} {url}', end='')\n",
    "    response = requests.get(url)\n",
    "    data = response.json()\n",
    "    sales.extend(data['payload']['sales'])\n",
    "    "
   ]
  },
  {
   "cell_type": "code",
   "execution_count": 44,
   "id": "881638c5",
   "metadata": {},
   "outputs": [
    {
     "data": {
      "text/plain": [
       "dict_keys(['payload', 'status'])"
      ]
     },
     "execution_count": 44,
     "metadata": {},
     "output_type": "execute_result"
    }
   ],
   "source": [
    "data.keys()"
   ]
  },
  {
   "cell_type": "code",
   "execution_count": 45,
   "id": "50168d80",
   "metadata": {},
   "outputs": [
    {
     "data": {
      "text/plain": [
       "<bound method NDFrame.head of         item  sale_amount                      sale_date  sale_id  store\n",
       "0          1         13.0  Tue, 01 Jan 2013 00:00:00 GMT        1      1\n",
       "1          1         11.0  Wed, 02 Jan 2013 00:00:00 GMT        2      1\n",
       "2          1         14.0  Thu, 03 Jan 2013 00:00:00 GMT        3      1\n",
       "3          1         13.0  Fri, 04 Jan 2013 00:00:00 GMT        4      1\n",
       "4          1         10.0  Sat, 05 Jan 2013 00:00:00 GMT        5      1\n",
       "...      ...          ...                            ...      ...    ...\n",
       "912995    50         63.0  Wed, 27 Dec 2017 00:00:00 GMT   912996     10\n",
       "912996    50         59.0  Thu, 28 Dec 2017 00:00:00 GMT   912997     10\n",
       "912997    50         74.0  Fri, 29 Dec 2017 00:00:00 GMT   912998     10\n",
       "912998    50         62.0  Sat, 30 Dec 2017 00:00:00 GMT   912999     10\n",
       "912999    50         82.0  Sun, 31 Dec 2017 00:00:00 GMT   913000     10\n",
       "\n",
       "[913000 rows x 5 columns]>"
      ]
     },
     "execution_count": 45,
     "metadata": {},
     "output_type": "execute_result"
    }
   ],
   "source": [
    "#create the pd.dataframe \n",
    "sales = pd.DataFrame(sales)\n",
    "sales.head"
   ]
  },
  {
   "cell_type": "code",
   "execution_count": 46,
   "id": "95bdb842",
   "metadata": {},
   "outputs": [],
   "source": [
    "#export sales to CSV file \n",
    "sales.to_csv('sales', index = False)"
   ]
  },
  {
   "cell_type": "markdown",
   "id": "83d7a12c",
   "metadata": {},
   "source": [
    "### Question four complete in above code "
   ]
  },
  {
   "cell_type": "markdown",
   "id": "9d930fdf",
   "metadata": {},
   "source": [
    "### Question five: Combine the data from your three separate dataframes into one large dataframe"
   ]
  },
  {
   "cell_type": "code",
   "execution_count": 47,
   "id": "d9280911",
   "metadata": {},
   "outputs": [
    {
     "data": {
      "text/html": [
       "<div>\n",
       "<style scoped>\n",
       "    .dataframe tbody tr th:only-of-type {\n",
       "        vertical-align: middle;\n",
       "    }\n",
       "\n",
       "    .dataframe tbody tr th {\n",
       "        vertical-align: top;\n",
       "    }\n",
       "\n",
       "    .dataframe thead th {\n",
       "        text-align: right;\n",
       "    }\n",
       "</style>\n",
       "<table border=\"1\" class=\"dataframe\">\n",
       "  <thead>\n",
       "    <tr style=\"text-align: right;\">\n",
       "      <th></th>\n",
       "      <th>item_brand</th>\n",
       "      <th>item_id</th>\n",
       "      <th>item_name</th>\n",
       "      <th>item_price</th>\n",
       "      <th>item_upc12</th>\n",
       "      <th>item_upc14</th>\n",
       "    </tr>\n",
       "  </thead>\n",
       "  <tbody>\n",
       "    <tr>\n",
       "      <th>0</th>\n",
       "      <td>Riceland</td>\n",
       "      <td>1</td>\n",
       "      <td>Riceland American Jazmine Rice</td>\n",
       "      <td>0.84</td>\n",
       "      <td>35200264013</td>\n",
       "      <td>35200264013</td>\n",
       "    </tr>\n",
       "    <tr>\n",
       "      <th>1</th>\n",
       "      <td>Caress</td>\n",
       "      <td>2</td>\n",
       "      <td>Caress Velvet Bliss Ultra Silkening Beauty Bar...</td>\n",
       "      <td>6.44</td>\n",
       "      <td>11111065925</td>\n",
       "      <td>11111065925</td>\n",
       "    </tr>\n",
       "    <tr>\n",
       "      <th>2</th>\n",
       "      <td>Earths Best</td>\n",
       "      <td>3</td>\n",
       "      <td>Earths Best Organic Fruit Yogurt Smoothie Mixe...</td>\n",
       "      <td>2.43</td>\n",
       "      <td>23923330139</td>\n",
       "      <td>23923330139</td>\n",
       "    </tr>\n",
       "    <tr>\n",
       "      <th>3</th>\n",
       "      <td>Boars Head</td>\n",
       "      <td>4</td>\n",
       "      <td>Boars Head Sliced White American Cheese - 120 Ct</td>\n",
       "      <td>3.14</td>\n",
       "      <td>208528800007</td>\n",
       "      <td>208528800007</td>\n",
       "    </tr>\n",
       "    <tr>\n",
       "      <th>4</th>\n",
       "      <td>Back To Nature</td>\n",
       "      <td>5</td>\n",
       "      <td>Back To Nature Gluten Free White Cheddar Rice ...</td>\n",
       "      <td>2.61</td>\n",
       "      <td>759283100036</td>\n",
       "      <td>759283100036</td>\n",
       "    </tr>\n",
       "  </tbody>\n",
       "</table>\n",
       "</div>"
      ],
      "text/plain": [
       "       item_brand  item_id                                          item_name  \\\n",
       "0        Riceland        1                     Riceland American Jazmine Rice   \n",
       "1          Caress        2  Caress Velvet Bliss Ultra Silkening Beauty Bar...   \n",
       "2     Earths Best        3  Earths Best Organic Fruit Yogurt Smoothie Mixe...   \n",
       "3      Boars Head        4   Boars Head Sliced White American Cheese - 120 Ct   \n",
       "4  Back To Nature        5  Back To Nature Gluten Free White Cheddar Rice ...   \n",
       "\n",
       "   item_price    item_upc12    item_upc14  \n",
       "0        0.84   35200264013   35200264013  \n",
       "1        6.44   11111065925   11111065925  \n",
       "2        2.43   23923330139   23923330139  \n",
       "3        3.14  208528800007  208528800007  \n",
       "4        2.61  759283100036  759283100036  "
      ]
     },
     "execution_count": 47,
     "metadata": {},
     "output_type": "execute_result"
    }
   ],
   "source": [
    "#inspect the head of each dataframe \n",
    "items.head()"
   ]
  },
  {
   "cell_type": "code",
   "execution_count": 48,
   "id": "288d11f9",
   "metadata": {},
   "outputs": [
    {
     "data": {
      "text/html": [
       "<div>\n",
       "<style scoped>\n",
       "    .dataframe tbody tr th:only-of-type {\n",
       "        vertical-align: middle;\n",
       "    }\n",
       "\n",
       "    .dataframe tbody tr th {\n",
       "        vertical-align: top;\n",
       "    }\n",
       "\n",
       "    .dataframe thead th {\n",
       "        text-align: right;\n",
       "    }\n",
       "</style>\n",
       "<table border=\"1\" class=\"dataframe\">\n",
       "  <thead>\n",
       "    <tr style=\"text-align: right;\">\n",
       "      <th></th>\n",
       "      <th>store_address</th>\n",
       "      <th>store_city</th>\n",
       "      <th>store_id</th>\n",
       "      <th>store_state</th>\n",
       "      <th>store_zipcode</th>\n",
       "    </tr>\n",
       "  </thead>\n",
       "  <tbody>\n",
       "    <tr>\n",
       "      <th>0</th>\n",
       "      <td>12125 Alamo Ranch Pkwy</td>\n",
       "      <td>San Antonio</td>\n",
       "      <td>1</td>\n",
       "      <td>TX</td>\n",
       "      <td>78253</td>\n",
       "    </tr>\n",
       "    <tr>\n",
       "      <th>1</th>\n",
       "      <td>9255 FM 471 West</td>\n",
       "      <td>San Antonio</td>\n",
       "      <td>2</td>\n",
       "      <td>TX</td>\n",
       "      <td>78251</td>\n",
       "    </tr>\n",
       "    <tr>\n",
       "      <th>2</th>\n",
       "      <td>2118 Fredericksburg Rdj</td>\n",
       "      <td>San Antonio</td>\n",
       "      <td>3</td>\n",
       "      <td>TX</td>\n",
       "      <td>78201</td>\n",
       "    </tr>\n",
       "    <tr>\n",
       "      <th>3</th>\n",
       "      <td>516 S Flores St</td>\n",
       "      <td>San Antonio</td>\n",
       "      <td>4</td>\n",
       "      <td>TX</td>\n",
       "      <td>78204</td>\n",
       "    </tr>\n",
       "    <tr>\n",
       "      <th>4</th>\n",
       "      <td>1520 Austin Hwy</td>\n",
       "      <td>San Antonio</td>\n",
       "      <td>5</td>\n",
       "      <td>TX</td>\n",
       "      <td>78218</td>\n",
       "    </tr>\n",
       "  </tbody>\n",
       "</table>\n",
       "</div>"
      ],
      "text/plain": [
       "             store_address   store_city  store_id store_state store_zipcode\n",
       "0   12125 Alamo Ranch Pkwy  San Antonio         1          TX         78253\n",
       "1         9255 FM 471 West  San Antonio         2          TX         78251\n",
       "2  2118 Fredericksburg Rdj  San Antonio         3          TX         78201\n",
       "3          516 S Flores St  San Antonio         4          TX         78204\n",
       "4          1520 Austin Hwy  San Antonio         5          TX         78218"
      ]
     },
     "execution_count": 48,
     "metadata": {},
     "output_type": "execute_result"
    }
   ],
   "source": [
    "#inspect the head of each dataframe \n",
    "stores.head()"
   ]
  },
  {
   "cell_type": "code",
   "execution_count": 49,
   "id": "7d275c07",
   "metadata": {},
   "outputs": [
    {
     "data": {
      "text/html": [
       "<div>\n",
       "<style scoped>\n",
       "    .dataframe tbody tr th:only-of-type {\n",
       "        vertical-align: middle;\n",
       "    }\n",
       "\n",
       "    .dataframe tbody tr th {\n",
       "        vertical-align: top;\n",
       "    }\n",
       "\n",
       "    .dataframe thead th {\n",
       "        text-align: right;\n",
       "    }\n",
       "</style>\n",
       "<table border=\"1\" class=\"dataframe\">\n",
       "  <thead>\n",
       "    <tr style=\"text-align: right;\">\n",
       "      <th></th>\n",
       "      <th>item</th>\n",
       "      <th>sale_amount</th>\n",
       "      <th>sale_date</th>\n",
       "      <th>sale_id</th>\n",
       "      <th>store</th>\n",
       "    </tr>\n",
       "  </thead>\n",
       "  <tbody>\n",
       "    <tr>\n",
       "      <th>0</th>\n",
       "      <td>1</td>\n",
       "      <td>13.0</td>\n",
       "      <td>Tue, 01 Jan 2013 00:00:00 GMT</td>\n",
       "      <td>1</td>\n",
       "      <td>1</td>\n",
       "    </tr>\n",
       "    <tr>\n",
       "      <th>1</th>\n",
       "      <td>1</td>\n",
       "      <td>11.0</td>\n",
       "      <td>Wed, 02 Jan 2013 00:00:00 GMT</td>\n",
       "      <td>2</td>\n",
       "      <td>1</td>\n",
       "    </tr>\n",
       "    <tr>\n",
       "      <th>2</th>\n",
       "      <td>1</td>\n",
       "      <td>14.0</td>\n",
       "      <td>Thu, 03 Jan 2013 00:00:00 GMT</td>\n",
       "      <td>3</td>\n",
       "      <td>1</td>\n",
       "    </tr>\n",
       "    <tr>\n",
       "      <th>3</th>\n",
       "      <td>1</td>\n",
       "      <td>13.0</td>\n",
       "      <td>Fri, 04 Jan 2013 00:00:00 GMT</td>\n",
       "      <td>4</td>\n",
       "      <td>1</td>\n",
       "    </tr>\n",
       "    <tr>\n",
       "      <th>4</th>\n",
       "      <td>1</td>\n",
       "      <td>10.0</td>\n",
       "      <td>Sat, 05 Jan 2013 00:00:00 GMT</td>\n",
       "      <td>5</td>\n",
       "      <td>1</td>\n",
       "    </tr>\n",
       "  </tbody>\n",
       "</table>\n",
       "</div>"
      ],
      "text/plain": [
       "   item  sale_amount                      sale_date  sale_id  store\n",
       "0     1         13.0  Tue, 01 Jan 2013 00:00:00 GMT        1      1\n",
       "1     1         11.0  Wed, 02 Jan 2013 00:00:00 GMT        2      1\n",
       "2     1         14.0  Thu, 03 Jan 2013 00:00:00 GMT        3      1\n",
       "3     1         13.0  Fri, 04 Jan 2013 00:00:00 GMT        4      1\n",
       "4     1         10.0  Sat, 05 Jan 2013 00:00:00 GMT        5      1"
      ]
     },
     "execution_count": 49,
     "metadata": {},
     "output_type": "execute_result"
    }
   ],
   "source": [
    "#inspect the head of each dataframe \n",
    "sales.head()"
   ]
  },
  {
   "cell_type": "code",
   "execution_count": 50,
   "id": "f12b500d",
   "metadata": {},
   "outputs": [],
   "source": [
    "#rename columns to have common index to be able to merge data\n",
    "sales = sales.rename(columns= {'item': 'item_id', 'store': 'store_id'} )"
   ]
  },
  {
   "cell_type": "code",
   "execution_count": 51,
   "id": "c7e9ff7a",
   "metadata": {},
   "outputs": [],
   "source": [
    "#merge dataframes using pd.merge on common features item_id and store_id\n",
    "df = pd.merge(sales, items, how='left', on='item_id')\n",
    "df = pd.merge(df, stores, how= 'left', on='store_id')"
   ]
  },
  {
   "cell_type": "code",
   "execution_count": 52,
   "id": "b010893f",
   "metadata": {},
   "outputs": [
    {
     "data": {
      "text/plain": [
       "(913000, 14)"
      ]
     },
     "execution_count": 52,
     "metadata": {},
     "output_type": "execute_result"
    }
   ],
   "source": [
    "df.shape"
   ]
  },
  {
   "cell_type": "markdown",
   "id": "98f0e246",
   "metadata": {},
   "source": [
    "### Acquire the Open power systems data for Germany"
   ]
  },
  {
   "cell_type": "code",
   "execution_count": 27,
   "id": "fc42660b",
   "metadata": {},
   "outputs": [
    {
     "data": {
      "text/html": [
       "<div>\n",
       "<style scoped>\n",
       "    .dataframe tbody tr th:only-of-type {\n",
       "        vertical-align: middle;\n",
       "    }\n",
       "\n",
       "    .dataframe tbody tr th {\n",
       "        vertical-align: top;\n",
       "    }\n",
       "\n",
       "    .dataframe thead th {\n",
       "        text-align: right;\n",
       "    }\n",
       "</style>\n",
       "<table border=\"1\" class=\"dataframe\">\n",
       "  <thead>\n",
       "    <tr style=\"text-align: right;\">\n",
       "      <th></th>\n",
       "      <th>Date</th>\n",
       "      <th>Consumption</th>\n",
       "      <th>Wind</th>\n",
       "      <th>Solar</th>\n",
       "      <th>Wind+Solar</th>\n",
       "    </tr>\n",
       "  </thead>\n",
       "  <tbody>\n",
       "    <tr>\n",
       "      <th>0</th>\n",
       "      <td>2006-01-01</td>\n",
       "      <td>1069.184</td>\n",
       "      <td>NaN</td>\n",
       "      <td>NaN</td>\n",
       "      <td>NaN</td>\n",
       "    </tr>\n",
       "    <tr>\n",
       "      <th>1</th>\n",
       "      <td>2006-01-02</td>\n",
       "      <td>1380.521</td>\n",
       "      <td>NaN</td>\n",
       "      <td>NaN</td>\n",
       "      <td>NaN</td>\n",
       "    </tr>\n",
       "    <tr>\n",
       "      <th>2</th>\n",
       "      <td>2006-01-03</td>\n",
       "      <td>1442.533</td>\n",
       "      <td>NaN</td>\n",
       "      <td>NaN</td>\n",
       "      <td>NaN</td>\n",
       "    </tr>\n",
       "    <tr>\n",
       "      <th>3</th>\n",
       "      <td>2006-01-04</td>\n",
       "      <td>1457.217</td>\n",
       "      <td>NaN</td>\n",
       "      <td>NaN</td>\n",
       "      <td>NaN</td>\n",
       "    </tr>\n",
       "    <tr>\n",
       "      <th>4</th>\n",
       "      <td>2006-01-05</td>\n",
       "      <td>1477.131</td>\n",
       "      <td>NaN</td>\n",
       "      <td>NaN</td>\n",
       "      <td>NaN</td>\n",
       "    </tr>\n",
       "  </tbody>\n",
       "</table>\n",
       "</div>"
      ],
      "text/plain": [
       "         Date  Consumption  Wind  Solar  Wind+Solar\n",
       "0  2006-01-01     1069.184   NaN    NaN         NaN\n",
       "1  2006-01-02     1380.521   NaN    NaN         NaN\n",
       "2  2006-01-03     1442.533   NaN    NaN         NaN\n",
       "3  2006-01-04     1457.217   NaN    NaN         NaN\n",
       "4  2006-01-05     1477.131   NaN    NaN         NaN"
      ]
     },
     "execution_count": 27,
     "metadata": {},
     "output_type": "execute_result"
    }
   ],
   "source": [
    "#read in csv file using pd.read_csv\n",
    "germany_electric = pd.read_csv('https://raw.githubusercontent.com/jenfly/opsd/master/opsd_germany_daily.csv')\n",
    "germany_electric.head()"
   ]
  },
  {
   "cell_type": "code",
   "execution_count": 28,
   "id": "ff179422",
   "metadata": {},
   "outputs": [
    {
     "name": "stdout",
     "output_type": "stream",
     "text": [
      "<class 'pandas.core.frame.DataFrame'>\n",
      "RangeIndex: 4383 entries, 0 to 4382\n",
      "Data columns (total 5 columns):\n",
      " #   Column       Non-Null Count  Dtype  \n",
      "---  ------       --------------  -----  \n",
      " 0   Date         4383 non-null   object \n",
      " 1   Consumption  4383 non-null   float64\n",
      " 2   Wind         2920 non-null   float64\n",
      " 3   Solar        2188 non-null   float64\n",
      " 4   Wind+Solar   2187 non-null   float64\n",
      "dtypes: float64(4), object(1)\n",
      "memory usage: 171.3+ KB\n"
     ]
    }
   ],
   "source": [
    "#review information \n",
    "germany_electric.info()"
   ]
  },
  {
   "cell_type": "code",
   "execution_count": 29,
   "id": "bdfcfbfa",
   "metadata": {},
   "outputs": [
    {
     "data": {
      "text/plain": [
       "(4383, 5)"
      ]
     },
     "execution_count": 29,
     "metadata": {},
     "output_type": "execute_result"
    }
   ],
   "source": [
    "#review shape \n",
    "germany_electric.shape"
   ]
  },
  {
   "cell_type": "code",
   "execution_count": 30,
   "id": "848ab8c1",
   "metadata": {},
   "outputs": [
    {
     "data": {
      "text/plain": [
       "Date              0\n",
       "Consumption       0\n",
       "Wind           1463\n",
       "Solar          2195\n",
       "Wind+Solar     2196\n",
       "dtype: int64"
      ]
     },
     "execution_count": 30,
     "metadata": {},
     "output_type": "execute_result"
    }
   ],
   "source": [
    "#are there any null values \n",
    "germany_electric.isna().sum()"
   ]
  },
  {
   "cell_type": "code",
   "execution_count": 35,
   "id": "b7a177c4",
   "metadata": {},
   "outputs": [],
   "source": [
    "#2 columns have 50% null values a\n",
    "#1 column has 33% null values \n",
    "#in many instances with null values this high we would drop the column, but in this case we would look key data for analysis \n",
    "# because the null values are so high if you impute them, you are probably going to introduce bias \n",
    "#KNN imputer is not an option because the dataset doesn't have enough features to base its prediction of the missing null row \n",
    "#for this reason drop pall nulls by row \n",
    "germany_electric = germany_electric.dropna()"
   ]
  },
  {
   "cell_type": "code",
   "execution_count": 36,
   "id": "314a5f04",
   "metadata": {},
   "outputs": [],
   "source": [
    "#export to csv\n",
    "germany_electric.to_csv('germany electric.csv', index = False)"
   ]
  },
  {
   "cell_type": "markdown",
   "id": "971704a8",
   "metadata": {},
   "source": [
    "### Acquire.py imports "
   ]
  },
  {
   "cell_type": "code",
   "execution_count": 58,
   "id": "e514bcdc",
   "metadata": {},
   "outputs": [
    {
     "name": "stdout",
     "output_type": "stream",
     "text": [
      "Reading from CSV file. . .\n",
      "Reading from csv file. . .\n"
     ]
    },
    {
     "ename": "NameError",
     "evalue": "name 'get_stores_data' is not defined",
     "output_type": "error",
     "traceback": [
      "\u001b[0;31m---------------------------------------------------------------------------\u001b[0m",
      "\u001b[0;31mNameError\u001b[0m                                 Traceback (most recent call last)",
      "\u001b[0;32m/var/folders/lt/mq77_h29005b8q_dkwt9pz000000gn/T/ipykernel_63826/1247252223.py\u001b[0m in \u001b[0;36m<module>\u001b[0;34m\u001b[0m\n\u001b[0;32m----> 1\u001b[0;31m \u001b[0mSD\u001b[0m \u001b[0;34m=\u001b[0m \u001b[0macquire\u001b[0m\u001b[0;34m.\u001b[0m\u001b[0mget_store_item_demand_data\u001b[0m\u001b[0;34m(\u001b[0m\u001b[0;34m)\u001b[0m\u001b[0;34m\u001b[0m\u001b[0;34m\u001b[0m\u001b[0m\n\u001b[0m",
      "\u001b[0;32m~/codeup-data-science/time_series/acquire.py\u001b[0m in \u001b[0;36mget_store_item_demand_data\u001b[0;34m()\u001b[0m\n\u001b[1;32m     97\u001b[0m     \u001b[0msales\u001b[0m \u001b[0;34m=\u001b[0m \u001b[0mget_sales_data\u001b[0m\u001b[0;34m(\u001b[0m\u001b[0;34m)\u001b[0m\u001b[0;34m\u001b[0m\u001b[0;34m\u001b[0m\u001b[0m\n\u001b[1;32m     98\u001b[0m     \u001b[0mitems\u001b[0m \u001b[0;34m=\u001b[0m \u001b[0mget_items_data\u001b[0m\u001b[0;34m(\u001b[0m\u001b[0;34m)\u001b[0m\u001b[0;34m\u001b[0m\u001b[0;34m\u001b[0m\u001b[0m\n\u001b[0;32m---> 99\u001b[0;31m     \u001b[0mstores\u001b[0m \u001b[0;34m=\u001b[0m \u001b[0mget_stores_data\u001b[0m\u001b[0;34m(\u001b[0m\u001b[0;34m)\u001b[0m\u001b[0;34m\u001b[0m\u001b[0;34m\u001b[0m\u001b[0m\n\u001b[0m\u001b[1;32m    100\u001b[0m \u001b[0;34m\u001b[0m\u001b[0m\n\u001b[1;32m    101\u001b[0m     \u001b[0msales\u001b[0m \u001b[0;34m=\u001b[0m \u001b[0msales\u001b[0m\u001b[0;34m.\u001b[0m\u001b[0mrename\u001b[0m\u001b[0;34m(\u001b[0m\u001b[0mcolumns\u001b[0m\u001b[0;34m=\u001b[0m\u001b[0;34m{\u001b[0m\u001b[0;34m'item'\u001b[0m\u001b[0;34m:\u001b[0m \u001b[0;34m'item_id'\u001b[0m\u001b[0;34m,\u001b[0m \u001b[0;34m'store'\u001b[0m\u001b[0;34m:\u001b[0m \u001b[0;34m'store_id'\u001b[0m\u001b[0;34m}\u001b[0m\u001b[0;34m)\u001b[0m\u001b[0;34m\u001b[0m\u001b[0;34m\u001b[0m\u001b[0m\n",
      "\u001b[0;31mNameError\u001b[0m: name 'get_stores_data' is not defined"
     ]
    }
   ],
   "source": [
    "SD = acquire.get_store_item_demand_data()"
   ]
  },
  {
   "cell_type": "code",
   "execution_count": null,
   "id": "8b9f95cf",
   "metadata": {},
   "outputs": [],
   "source": [
    "GE = acquire.german_electric "
   ]
  },
  {
   "cell_type": "code",
   "execution_count": null,
   "id": "39ab8b95",
   "metadata": {},
   "outputs": [],
   "source": []
  }
 ],
 "metadata": {
  "kernelspec": {
   "display_name": "Python 3 (ipykernel)",
   "language": "python",
   "name": "python3"
  },
  "language_info": {
   "codemirror_mode": {
    "name": "ipython",
    "version": 3
   },
   "file_extension": ".py",
   "mimetype": "text/x-python",
   "name": "python",
   "nbconvert_exporter": "python",
   "pygments_lexer": "ipython3",
   "version": "3.9.7"
  }
 },
 "nbformat": 4,
 "nbformat_minor": 5
}
