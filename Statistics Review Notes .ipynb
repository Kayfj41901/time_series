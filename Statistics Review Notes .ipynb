{
 "cells": [
  {
   "cell_type": "code",
   "execution_count": 6,
   "id": "820aaa6a",
   "metadata": {},
   "outputs": [],
   "source": [
    "import pandas as pd\n",
    "import matplotlib.pyplot as plt \n",
    "import numpy as np "
   ]
  },
  {
   "cell_type": "code",
   "execution_count": 4,
   "id": "d05482fe",
   "metadata": {},
   "outputs": [],
   "source": [
    "#create variables of different types \n",
    "\n",
    "#numerical data \n",
    "numdata= [1, 2, 3, 4, 5]\n",
    "\n",
    "#character/string \n",
    "chardata = 'xyz'\n",
    "\n",
    "#boolean \n",
    "logitdata = True \n",
    "\n",
    "#a list can take different dtypes \n",
    "listdata = [[1, 2, 3], 'hello', False]\n",
    "\n",
    "#dictionary \n",
    "dictdata = dict()\n",
    "#dictdata = ['name'] = 'Kayla'\n",
    "#dictdata = ['age'] = 99"
   ]
  },
  {
   "cell_type": "code",
   "execution_count": 5,
   "id": "217d5cce",
   "metadata": {},
   "outputs": [
    {
     "name": "stdout",
     "output_type": "stream",
     "text": [
      "Variable    Type      Data/Info\n",
      "-------------------------------\n",
      "chardata    str       xyz\n",
      "dictdata    dict      n=0\n",
      "listdata    list      n=3\n",
      "logitdata   bool      True\n",
      "numdata     list      n=5\n",
      "pd          module    <module 'pandas' from '/u<...>ages/pandas/__init__.py'>\n"
     ]
    }
   ],
   "source": [
    "#what the workshpace looks like \n",
    "%whos"
   ]
  },
  {
   "cell_type": "code",
   "execution_count": 8,
   "id": "05313054",
   "metadata": {},
   "outputs": [],
   "source": [
    "m = 30 \n",
    "n = 6 \n",
    "\n",
    "data = np.zeros((m,n))\n",
    "\n",
    "for i in range(n):\n",
    "    data[:,i] = 30*np.random.randn(m) * (2*i/(n-1)-1)**2 + (i + 1)**2"
   ]
  },
  {
   "cell_type": "code",
   "execution_count": null,
   "id": "5b778cd6",
   "metadata": {},
   "outputs": [],
   "source": [
    "#show the bars \n",
    "\n",
    "fig, ax = plt.subplots(1,3, figsize=(8,2))\n",
    "\n",
    "#naked bars \n",
    "ax[0].bar(range(n), np.mean(data, axis=0))\n",
    "ax[0].set_title('Bar Plot')\n",
    "\n",
    "#just the error bars \n",
    "ax[1]"
   ]
  },
  {
   "cell_type": "code",
   "execution_count": null,
   "id": "bdfd9d51",
   "metadata": {},
   "outputs": [],
   "source": []
  },
  {
   "cell_type": "code",
   "execution_count": null,
   "id": "d398892b",
   "metadata": {},
   "outputs": [],
   "source": []
  },
  {
   "cell_type": "code",
   "execution_count": null,
   "id": "8b151913",
   "metadata": {},
   "outputs": [],
   "source": []
  },
  {
   "cell_type": "code",
   "execution_count": null,
   "id": "8991fed5",
   "metadata": {},
   "outputs": [],
   "source": []
  },
  {
   "cell_type": "code",
   "execution_count": null,
   "id": "6a615a99",
   "metadata": {},
   "outputs": [],
   "source": []
  },
  {
   "cell_type": "code",
   "execution_count": null,
   "id": "892499dc",
   "metadata": {},
   "outputs": [],
   "source": []
  },
  {
   "cell_type": "code",
   "execution_count": null,
   "id": "2a87f315",
   "metadata": {},
   "outputs": [],
   "source": []
  },
  {
   "cell_type": "code",
   "execution_count": null,
   "id": "4517ac80",
   "metadata": {},
   "outputs": [],
   "source": []
  },
  {
   "cell_type": "code",
   "execution_count": null,
   "id": "658e69e8",
   "metadata": {},
   "outputs": [],
   "source": []
  },
  {
   "cell_type": "code",
   "execution_count": null,
   "id": "65d8413a",
   "metadata": {},
   "outputs": [],
   "source": []
  },
  {
   "cell_type": "code",
   "execution_count": null,
   "id": "17604fc7",
   "metadata": {},
   "outputs": [],
   "source": []
  },
  {
   "cell_type": "code",
   "execution_count": null,
   "id": "82a1542a",
   "metadata": {},
   "outputs": [],
   "source": []
  },
  {
   "cell_type": "code",
   "execution_count": null,
   "id": "c72095ed",
   "metadata": {},
   "outputs": [],
   "source": []
  },
  {
   "cell_type": "code",
   "execution_count": null,
   "id": "ba11aa49",
   "metadata": {},
   "outputs": [],
   "source": []
  },
  {
   "cell_type": "code",
   "execution_count": null,
   "id": "d0f0d273",
   "metadata": {},
   "outputs": [],
   "source": []
  },
  {
   "cell_type": "code",
   "execution_count": null,
   "id": "7d166956",
   "metadata": {},
   "outputs": [],
   "source": []
  },
  {
   "cell_type": "code",
   "execution_count": null,
   "id": "e01a0689",
   "metadata": {},
   "outputs": [],
   "source": []
  },
  {
   "cell_type": "code",
   "execution_count": null,
   "id": "615ff877",
   "metadata": {},
   "outputs": [],
   "source": []
  },
  {
   "cell_type": "code",
   "execution_count": null,
   "id": "d3be9ff1",
   "metadata": {},
   "outputs": [],
   "source": []
  },
  {
   "cell_type": "code",
   "execution_count": null,
   "id": "0f41eb49",
   "metadata": {},
   "outputs": [],
   "source": []
  },
  {
   "cell_type": "code",
   "execution_count": null,
   "id": "82a10385",
   "metadata": {},
   "outputs": [],
   "source": []
  },
  {
   "cell_type": "code",
   "execution_count": null,
   "id": "47fd250c",
   "metadata": {},
   "outputs": [],
   "source": []
  },
  {
   "cell_type": "code",
   "execution_count": null,
   "id": "8fea6afc",
   "metadata": {},
   "outputs": [],
   "source": []
  },
  {
   "cell_type": "code",
   "execution_count": null,
   "id": "3c6c69a5",
   "metadata": {},
   "outputs": [],
   "source": []
  },
  {
   "cell_type": "code",
   "execution_count": null,
   "id": "b8ddb472",
   "metadata": {},
   "outputs": [],
   "source": []
  },
  {
   "cell_type": "code",
   "execution_count": null,
   "id": "5e542e58",
   "metadata": {},
   "outputs": [],
   "source": []
  },
  {
   "cell_type": "code",
   "execution_count": null,
   "id": "1040fe30",
   "metadata": {},
   "outputs": [],
   "source": []
  }
 ],
 "metadata": {
  "kernelspec": {
   "display_name": "Python 3 (ipykernel)",
   "language": "python",
   "name": "python3"
  },
  "language_info": {
   "codemirror_mode": {
    "name": "ipython",
    "version": 3
   },
   "file_extension": ".py",
   "mimetype": "text/x-python",
   "name": "python",
   "nbconvert_exporter": "python",
   "pygments_lexer": "ipython3",
   "version": "3.9.7"
  }
 },
 "nbformat": 4,
 "nbformat_minor": 5
}
